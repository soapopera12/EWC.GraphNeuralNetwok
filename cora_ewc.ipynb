{
 "cells": [
  {
   "cell_type": "markdown",
   "id": "ef5ef898-a403-4330-b14d-1ad63892c8ca",
   "metadata": {},
   "source": [
    "## Importing OS"
   ]
  },
  {
   "cell_type": "code",
   "execution_count": 21,
   "id": "94c0016f-9dbe-436b-b06c-62b1320d1e5b",
   "metadata": {},
   "outputs": [],
   "source": [
    "# basic imports\n",
    "import os\n",
    "from tqdm import tqdm\n",
    "\n",
    "# numpy\n",
    "import numpy as np\n",
    "\n",
    "# plotting\n",
    "%matplotlib inline\n",
    "import matplotlib.pyplot as plt\n",
    "\n",
    "# sklearn\n",
    "from sklearn.manifold import TSNE\n",
    "\n",
    "# torch\n",
    "import torch\n",
    "from torch.nn import Linear\n",
    "import torch.nn.functional as F\n",
    "\n",
    "# PyG\n",
    "from torch_geometric.nn import GCNConv\n",
    "from torch_geometric.datasets import Planetoid\n",
    "from torch_geometric.transforms import NormalizeFeatures\n",
    "from torch_geometric.loader import NeighborLoader\n",
    "\n",
    "# data_new.py\n",
    "import importlib\n",
    "import data_new\n",
    "from data_new import SeparatedDataset\n",
    "import utils\n",
    "from utils import EWC, ewc_train, normal_train"
   ]
  },
  {
   "cell_type": "code",
   "execution_count": 4,
   "id": "785b751c-c9e2-4a2e-9636-b9cdc3e9e742",
   "metadata": {},
   "outputs": [],
   "source": [
    "os.environ['TORCH'] = torch.__version__"
   ]
  },
  {
   "cell_type": "markdown",
   "id": "b46bba13-bbaa-4358-831b-8d76c383f72c",
   "metadata": {},
   "source": [
    "## Graph Plotting function"
   ]
  },
  {
   "cell_type": "code",
   "execution_count": 5,
   "id": "eb5e54d5-024a-4d6b-a0a8-9cde543ba6bf",
   "metadata": {},
   "outputs": [],
   "source": [
    "def visualize(h, color):\n",
    "    z = TSNE(n_components=2).fit_transform(h.detach().cpu().numpy())\n",
    "\n",
    "    plt.figure(figsize=(10,10))\n",
    "    plt.xticks([])\n",
    "    plt.yticks([])\n",
    "\n",
    "    plt.scatter(z[:, 0], z[:, 1], s=70, c=color, cmap=\"Set2\")\n",
    "    plt.show()"
   ]
  },
  {
   "cell_type": "markdown",
   "id": "36b30653-aa64-442d-9746-1f7b6aa52d8b",
   "metadata": {},
   "source": [
    "## Simple EDA for Planetoid cora"
   ]
  },
  {
   "cell_type": "code",
   "execution_count": 6,
   "id": "febef5a0-64da-4ac2-b30c-cd9f7d9d26b3",
   "metadata": {},
   "outputs": [
    {
     "name": "stdout",
     "output_type": "stream",
     "text": [
      "\n",
      "Dataset: Cora():\n",
      "===========================================================================================================\n",
      "Number of graphs: 1\n",
      "Number of features: 1433\n",
      "Number of classes: 7\n"
     ]
    }
   ],
   "source": [
    "dataset = Planetoid(root='data/Planetoid', name='Cora', transform=NormalizeFeatures())\n",
    "\n",
    "print()\n",
    "print(f'Dataset: {dataset}:')\n",
    "print('===========================================================================================================')\n",
    "print(f'Number of graphs: {len(dataset)}')\n",
    "print(f'Number of features: {dataset.num_features}')\n",
    "print(f'Number of classes: {dataset.num_classes}')"
   ]
  },
  {
   "cell_type": "code",
   "execution_count": 7,
   "id": "797c670d-d72d-46c1-991f-dff213dc6642",
   "metadata": {},
   "outputs": [
    {
     "name": "stdout",
     "output_type": "stream",
     "text": [
      "\n",
      "Data(x=[2708, 1433], edge_index=[2, 10556], y=[2708], train_mask=[2708], val_mask=[2708], test_mask=[2708])\n",
      "===========================================================================================================\n",
      "Number of nodes: 2708\n",
      "Number of edges: 10556\n",
      "Average node degree: 3.90\n",
      "Number of training nodes: 140\n",
      "Number of validation nodes: 500\n",
      "Number of testing nodes: 1000\n",
      "Training node label rate: 0.05\n",
      "Has isolated nodes: False\n",
      "Has self-loops: False\n",
      "Is undirected: True\n"
     ]
    }
   ],
   "source": [
    "data = dataset[0]  # Get the first graph object.\n",
    "\n",
    "print()\n",
    "print(data)\n",
    "print('===========================================================================================================')\n",
    "\n",
    "# Gather some statistics about the graph.\n",
    "print(f'Number of nodes: {data.num_nodes}')\n",
    "print(f'Number of edges: {data.num_edges}')\n",
    "print(f'Average node degree: {data.num_edges / data.num_nodes:.2f}')\n",
    "print(f'Number of training nodes: {data.train_mask.sum()}')\n",
    "print(f'Number of validation nodes: {data.val_mask.sum()}')\n",
    "print(f'Number of testing nodes: {data.test_mask.sum()}')\n",
    "print(f'Training node label rate: {int(data.train_mask.sum()) / data.num_nodes:.2f}')\n",
    "print(f'Has isolated nodes: {data.has_isolated_nodes()}')\n",
    "print(f'Has self-loops: {data.has_self_loops()}')\n",
    "print(f'Is undirected: {data.is_undirected()}')"
   ]
  },
  {
   "cell_type": "markdown",
   "id": "e90930a2-a5cf-4aa6-9c41-282506f63452",
   "metadata": {},
   "source": [
    "## Preparing loaders"
   ]
  },
  {
   "cell_type": "code",
   "execution_count": 8,
   "id": "6d8d01da-5650-49ba-a7f9-12241283f9cf",
   "metadata": {},
   "outputs": [],
   "source": [
    "def getGraphDataLoader(data_train, task_masks, batch_size, neighbors_arr):\n",
    "        '''\n",
    "        This function takes in a graph data object the required batch_size \n",
    "        and neighbors_arr and returns a loader\n",
    "        '''\n",
    "        loader=NeighborLoader(\n",
    "            data_train,    # taking in data_train\n",
    "            input_nodes=task_masks,\n",
    "            num_neighbors=neighbors_arr,  \n",
    "            batch_size=batch_size,\n",
    "            replace=False,\n",
    "            shuffle=True\n",
    "        )\n",
    "        return loader"
   ]
  },
  {
   "cell_type": "markdown",
   "id": "ca0dac42-9faa-43aa-9c9c-ea6c3f3a0560",
   "metadata": {},
   "source": [
    "## GCN model"
   ]
  },
  {
   "cell_type": "code",
   "execution_count": 9,
   "id": "58b10c82-7c46-411a-8927-c236be4beea5",
   "metadata": {},
   "outputs": [],
   "source": [
    "class GCN(torch.nn.Module):\n",
    "    def __init__(self, hidden_channels):\n",
    "        super().__init__()\n",
    "        torch.manual_seed(1234567)\n",
    "        self.conv1 = GCNConv(dataset.num_features, hidden_channels) # does Message computation + Neighborhood aggregation internally\n",
    "        self.conv2 = GCNConv(hidden_channels, dataset.num_classes)\n",
    "\n",
    "    def forward(self, x, edge_index):\n",
    "        x = self.conv1(x, edge_index)\n",
    "        x = x.relu()\n",
    "        x = F.dropout(x, p=0.5, training=self.training)\n",
    "        x = self.conv2(x, edge_index)\n",
    "        return x"
   ]
  },
  {
   "cell_type": "markdown",
   "id": "dd63e2ea-d617-4b54-a800-262953c60217",
   "metadata": {},
   "source": [
    "## Train and test methods"
   ]
  },
  {
   "cell_type": "code",
   "execution_count": 10,
   "id": "e7a8bc5b-96d2-4afb-979c-ea3ec34edc95",
   "metadata": {},
   "outputs": [],
   "source": [
    "def train(model, train_loader, criterion, optimizer, epochs):\n",
    "    model.train()\n",
    "    # epoch wise\n",
    "    for _ in tqdm(range(epochs)):\n",
    "        total_loss = 0\n",
    "        total = 0\n",
    "        # batch wise\n",
    "        for batch in train_loader:\n",
    "            optimizer.zero_grad()  # Clear gradients.\n",
    "            out = model(batch.x, batch.edge_index)  # Perform a single forward pass.\n",
    "            y_act = batch.y[:batch.batch_size]\n",
    "            out = out[:batch_size]\n",
    "            loss = criterion(out, y_act)  # Compute the loss solely based on the training nodes.\n",
    "            loss.backward()  # Derive gradients.\n",
    "            optimizer.step()  # Update parameters based on gradients\n",
    "            total_loss += loss.item()\n",
    "            total += y_act.size(0)\n",
    "        # if epoch % 5 == 0:\n",
    "        #     print(\"Epoch :\", epoch+1, \", Loss :\", total_loss/total)"
   ]
  },
  {
   "cell_type": "code",
   "execution_count": 11,
   "id": "15508895-8ac6-43be-aad1-8e2ce4ac9774",
   "metadata": {},
   "outputs": [],
   "source": [
    "def test(model, test_loader):\n",
    "    model.eval()\n",
    "    test_correct = 0\n",
    "    total_elements = 0\n",
    "    for batch in test_loader:\n",
    "        \n",
    "        out = model(batch.x, batch.edge_index)\n",
    "        pred = out.argmax(dim=1)  # Use the class with highest probability.\n",
    "        \n",
    "        pred = pred[:batch.batch_size]\n",
    "        y_act = batch.y[:batch.batch_size]\n",
    "        \n",
    "        test_correct += (pred == y_act).sum().item()\n",
    "        total_elements += batch.batch_size\n",
    "        \n",
    "    test_acc = test_correct/total_elements\n",
    "    return test_acc"
   ]
  },
  {
   "cell_type": "markdown",
   "id": "3cf03eca-2d04-4481-8a62-62e040139ffc",
   "metadata": {},
   "source": [
    "## Running the model"
   ]
  },
  {
   "cell_type": "code",
   "execution_count": 42,
   "id": "18a24cb8-2def-4650-8ec4-5ae6fe047205",
   "metadata": {},
   "outputs": [],
   "source": [
    "epochs = 40\n",
    "batch_size = 10\n",
    "neighbors_arr = [4, 3]"
   ]
  },
  {
   "cell_type": "code",
   "execution_count": 43,
   "id": "9a0b5036-1c70-4932-a93b-9ed469a76943",
   "metadata": {},
   "outputs": [],
   "source": [
    "model = GCN(hidden_channels=16)\n",
    "optimizer = torch.optim.Adam(model.parameters(), lr=0.01, weight_decay=5e-4)\n",
    "criterion = torch.nn.CrossEntropyLoss()"
   ]
  },
  {
   "cell_type": "code",
   "execution_count": 44,
   "id": "3530f6c3-3904-4cac-bf50-351fa96d836e",
   "metadata": {},
   "outputs": [],
   "source": [
    "train_loader = getGraphDataLoader(data, data.train_mask | data.val_mask, batch_size, neighbors_arr)"
   ]
  },
  {
   "cell_type": "code",
   "execution_count": 45,
   "id": "07cf5960-a7d1-4631-834e-ef50a0fd67df",
   "metadata": {},
   "outputs": [],
   "source": [
    "test_loader = getGraphDataLoader(data, data.test_mask, batch_size, neighbors_arr)"
   ]
  },
  {
   "cell_type": "code",
   "execution_count": 46,
   "id": "b952be84-deba-49f5-84fd-7d0ac275b326",
   "metadata": {},
   "outputs": [
    {
     "name": "stderr",
     "output_type": "stream",
     "text": [
      "100%|██████████████████████████████████████████████████████████████████████████████████| 40/40 [00:07<00:00,  5.31it/s]\n"
     ]
    }
   ],
   "source": [
    "train(model, train_loader, criterion, optimizer, epochs)"
   ]
  },
  {
   "cell_type": "code",
   "execution_count": 47,
   "id": "3d056719-5a49-42ed-9093-299525e0f7a5",
   "metadata": {},
   "outputs": [],
   "source": [
    "test_accuracy = test(model, test_loader)"
   ]
  },
  {
   "cell_type": "code",
   "execution_count": 48,
   "id": "2e157bb2-5295-4018-8994-8ecb2299ee3e",
   "metadata": {},
   "outputs": [
    {
     "data": {
      "text/plain": [
       "0.841"
      ]
     },
     "execution_count": 48,
     "metadata": {},
     "output_type": "execute_result"
    }
   ],
   "source": [
    "test_accuracy"
   ]
  },
  {
   "cell_type": "markdown",
   "id": "a8579561-5deb-483f-95ba-0b0c4fa58658",
   "metadata": {},
   "source": [
    "##  EWC"
   ]
  },
  {
   "cell_type": "code",
   "execution_count": 13,
   "id": "21c4f9a2-c3e5-4d15-8133-7e9667bf0242",
   "metadata": {},
   "outputs": [],
   "source": [
    "#parameters for EWC\n",
    "sample_size = 200\n",
    "epochs = 10\n",
    "num_tasks = 2\n",
    "batch_size = 4\n",
    "neighbors_arr = [4, 2]"
   ]
  },
  {
   "cell_type": "markdown",
   "id": "104aa891-18a4-485d-8187-d14e032b52ea",
   "metadata": {},
   "source": [
    "## Getting data for EWC"
   ]
  },
  {
   "cell_type": "code",
   "execution_count": 14,
   "id": "ae392a07-9d43-4195-bdaf-e065cf61d0aa",
   "metadata": {},
   "outputs": [],
   "source": [
    "# As data is less here we merge train and val data\n",
    "# make a separatedDataset object and get the masks for all tasks\n",
    "# get train_mask_arr and test_mask_arr for differnt tasks\n",
    "# get train_loader_arr and test_loader_arr for different tasks"
   ]
  },
  {
   "cell_type": "code",
   "execution_count": 15,
   "id": "326b1949-8851-4f7b-ae19-34d9203bbfb8",
   "metadata": {},
   "outputs": [],
   "source": [
    "final_train_mask = data.train_mask | data.val_mask\n",
    "separatedDataset = SeparatedDataset(final_train_mask, num_tasks)\n",
    "train_task_masks_arr, test_task_masks_arr = separatedDataset.train_test_split_ewc(0.1)\n",
    "train_loader_arr, test_loader_arr = separatedDataset.preparingLoaders(data, batch_size, neighbors_arr, train_task_masks_arr, test_task_masks_arr)"
   ]
  },
  {
   "cell_type": "markdown",
   "id": "6eb75c60-1276-4ba6-bf34-0207713dc3f5",
   "metadata": {},
   "source": [
    "## Training and testing method without EWC"
   ]
  },
  {
   "cell_type": "code",
   "execution_count": 53,
   "id": "19f581db-b763-4ba2-a4aa-34e66af68186",
   "metadata": {},
   "outputs": [],
   "source": [
    "import utils\n",
    "importlib.reload(utils)\n",
    "from utils import EWC, ewc_train, normal_train"
   ]
  },
  {
   "cell_type": "code",
   "execution_count": 54,
   "id": "a0a557f3-a932-47fa-b766-4b2ca6b763ed",
   "metadata": {},
   "outputs": [],
   "source": [
    "def normal_train_ewc(model, optimizer, criterion, num_tasks, train_loader_arr, test_loader_arr, epochs, weight=True):\n",
    "    model.train()\n",
    "    loss, acc = {}, {}\n",
    "    for task in range(num_tasks):\n",
    "        loss[task] = []\n",
    "        acc[task] = []\n",
    "        for _ in tqdm(range(epochs)):\n",
    "            loss[task].append(normal_train(model, criterion, optimizer, train_loader_arr[task]))\n",
    "            # testing for previous tasks as we progress\n",
    "            for sub_task in range(task + 1):\n",
    "                acc[sub_task].append(test(model, test_loader_arr[sub_task]))\n",
    "        if task == 0 and weight:\n",
    "            weight = model.state_dict()\n",
    "\n",
    "    return loss, acc, weight"
   ]
  },
  {
   "cell_type": "code",
   "execution_count": 55,
   "id": "673d921a-3019-4ed7-a830-ad79719cbd8c",
   "metadata": {},
   "outputs": [],
   "source": [
    "def test(model, test_loader):\n",
    "    model.eval()\n",
    "    test_correct = 0\n",
    "    total_elements = 0\n",
    "    for batch in test_loader:\n",
    "        \n",
    "        out = model(batch.x, batch.edge_index)\n",
    "        pred = out.argmax(dim=1)  # Use the class with highest probability.\n",
    "        \n",
    "        pred = pred[:batch.batch_size]\n",
    "        y_act = batch.y[:batch.batch_size]\n",
    "        \n",
    "        test_correct += (pred == y_act).sum().item()\n",
    "        total_elements += batch.batch_size\n",
    "        \n",
    "    test_acc = test_correct/total_elements\n",
    "    return test_acc"
   ]
  },
  {
   "cell_type": "code",
   "execution_count": 56,
   "id": "f9a94edb-2704-44ac-a79e-3c4024811ad6",
   "metadata": {},
   "outputs": [],
   "source": [
    "model = GCN(hidden_channels=16)\n",
    "optimizer = torch.optim.Adam(model.parameters(), lr=0.01, weight_decay=5e-4)\n",
    "criterion = torch.nn.CrossEntropyLoss()"
   ]
  },
  {
   "cell_type": "code",
   "execution_count": 57,
   "id": "953bd819-4c35-481c-aef2-e9749f8f4092",
   "metadata": {},
   "outputs": [
    {
     "name": "stderr",
     "output_type": "stream",
     "text": [
      "100%|██████████████████████████████████████████████████████████████████████████████████| 10/10 [00:28<00:00,  2.89s/it]\n",
      "100%|██████████████████████████████████████████████████████████████████████████████████| 10/10 [00:40<00:00,  4.02s/it]\n"
     ]
    }
   ],
   "source": [
    "loss, acc, weight = normal_train_ewc(model, optimizer, criterion, num_tasks, train_loader_arr, test_loader_arr, epochs)"
   ]
  },
  {
   "cell_type": "code",
   "execution_count": 61,
   "id": "cea50078-0e77-4ea0-84e0-bc497fb7e19d",
   "metadata": {},
   "outputs": [],
   "source": [
    "def loss_plot(x):\n",
    "    for t, v in x.items():\n",
    "        plt.plot(list(range(t * epochs, (t + 1) * epochs)), v)\n",
    "    # possibility of an outlier in data reducing the y_lim to 3\n",
    "\n",
    "def accuracy_plot(x):\n",
    "    for t, v in x.items():\n",
    "        plt.plot(list(range(t * epochs, num_tasks * epochs)), v)  "
   ]
  },
  {
   "cell_type": "code",
   "execution_count": 62,
   "id": "00710b58-f711-469a-90a6-5712529c0c1a",
   "metadata": {},
   "outputs": [
    {
     "data": {
      "image/png": "[encoded data removed]",
      "text/plain": [
       "<Figure size 640x480 with 1 Axes>"
      ]
     },
     "metadata": {},
     "output_type": "display_data"
    }
   ],
   "source": [
    "accuracy_plot(acc)"
   ]
  },
  {
   "cell_type": "code",
   "execution_count": 63,
   "id": "0416e8b1-39e9-4672-8125-3988ce4cdd0c",
   "metadata": {},
   "outputs": [
    {
     "data": {
      "image/png": "[encoded data removed]",
      "text/plain": [
       "<Figure size 640x480 with 1 Axes>"
      ]
     },
     "metadata": {},
     "output_type": "display_data"
    }
   ],
   "source": [
    "loss_plot(loss)"
   ]
  },
  {
   "cell_type": "markdown",
   "id": "98befa3c-a900-43da-a371-ba900c8d1b38",
   "metadata": {},
   "source": [
    "## Training and testing method with EWC"
   ]
  },
  {
   "cell_type": "code",
   "execution_count": 26,
   "id": "1f4f901e-697c-40ba-89d1-86d1475deb08",
   "metadata": {},
   "outputs": [],
   "source": [
    "#train_task_masks_arr, test_task_masks_arr\n",
    "import random"
   ]
  },
  {
   "cell_type": "code",
   "execution_count": 42,
   "id": "e3cfa28f-2b48-4b83-813d-ec35ef0a20f3",
   "metadata": {},
   "outputs": [],
   "source": [
    "def ewc_process(model, optimizer, criterion, num_tasks, train_loader_arr, test_loader_arr, epochs, importance, train_task_masks_arr, separatedDataset, weight=None):\n",
    "\n",
    "    loss, acc, ewc = {}, {}, {}\n",
    "\n",
    "    sample_size = 20\n",
    "    \n",
    "    for task in range(num_tasks):\n",
    "        loss[task] = []\n",
    "        acc[task] = []\n",
    "\n",
    "        if task == 0:\n",
    "            if weight:\n",
    "                model.load_state_dict(weight)\n",
    "            else:\n",
    "                for _ in tqdm(range(epochs)):\n",
    "                    loss[task].append(normal_train(model, criterion, optimizer, train_loader_arr[task]))\n",
    "                    acc[task].append(test(model, test_loader_arr[task]))\n",
    "        else:\n",
    "            # need to rewrite this using masking\n",
    "            old_tasks = []\n",
    "            for sub_task in range(task):\n",
    "                # Or sample_size from each task\n",
    "                old_tasks.extend(separatedDataset.get_sample(train_task_masks_arr, sample_size))\n",
    "            # again select 200 randonly\n",
    "            old_tasks = random.sample(old_tasks, k=sample_size)\n",
    "            # get dataloader for oldtask\n",
    "            old_tasks_mask = np.zeros_like(train_task_masks_arr[0])\n",
    "            old_tasks_mask[old_tasks] = 1\n",
    "            old_tasks_loader = getGraphDataLoader(data, old_tasks_mask, batch_size, neighbors_arr)          \n",
    "            for _ in tqdm(range(epochs)):\n",
    "                # start EWC training\n",
    "                # prepare EWC object first so pass old data and model\n",
    "                loss[task].append(ewc_train(model, criterion, optimizer, train_loader_arr[task], EWC(model, old_tasks_loader, criterion, np.sum(old_tasks_mask)), importance))\n",
    "                for sub_task in range(task + 1):\n",
    "                    acc[sub_task].append(test(model, test_loader_arr[sub_task]))\n",
    "\n",
    "    return loss, acc"
   ]
  },
  {
   "cell_type": "code",
   "execution_count": 63,
   "id": "e54282a9-31d7-4625-b573-baf198318534",
   "metadata": {},
   "outputs": [],
   "source": [
    "importlib.reload(data_new)\n",
    "import data_new\n",
    "from data_new import SeparatedDataset\n",
    "importlib.reload(utils)\n",
    "import utils\n",
    "from utils import EWC, ewc_train, normal_train"
   ]
  },
  {
   "cell_type": "code",
   "execution_count": 64,
   "id": "2518cbaf-bc3c-45a2-a93d-929b2482ccef",
   "metadata": {},
   "outputs": [],
   "source": [
    "model = GCN(hidden_channels=16)\n",
    "optimizer = torch.optim.Adam(model.parameters(), lr=0.01, weight_decay=5e-4)\n",
    "criterion = torch.nn.CrossEntropyLoss()"
   ]
  },
  {
   "cell_type": "code",
   "execution_count": 65,
   "id": "1409808b-6172-45a8-b067-7cbb0093e137",
   "metadata": {},
   "outputs": [],
   "source": [
    "importance = 1000\n",
    "epochs = 10"
   ]
  },
  {
   "cell_type": "code",
   "execution_count": 66,
   "id": "b99757d6-bb45-47bc-bae8-cd2c3b5121d8",
   "metadata": {},
   "outputs": [
    {
     "name": "stderr",
     "output_type": "stream",
     "text": [
      "100%|██████████████████████████████████████████████████████████████████████████████████| 10/10 [00:28<00:00,  2.90s/it]\n",
      "100%|██████████████████████████████████████████████████████████████████████████████████| 10/10 [00:57<00:00,  5.77s/it]\n"
     ]
    }
   ],
   "source": [
    "loss_ewc, acc_ewc = ewc_process(model, optimizer, criterion, num_tasks, train_loader_arr, test_loader_arr, epochs, importance, train_task_masks_arr, separatedDataset)"
   ]
  },
  {
   "cell_type": "code",
   "execution_count": 67,
   "id": "d51150ca-2fbc-416a-a827-05c888fc6973",
   "metadata": {},
   "outputs": [],
   "source": [
    "def loss_plot(x):\n",
    "    for t, v in x.items():\n",
    "        plt.plot(list(range(t * epochs, (t + 1) * epochs)), v)\n",
    "    # possibility of an outlier in data reducing the y_lim to 3\n",
    "\n",
    "def accuracy_plot(x):\n",
    "    for t, v in x.items():\n",
    "        plt.plot(list(range(t * epochs, num_tasks * epochs)), v)  "
   ]
  },
  {
   "cell_type": "code",
   "execution_count": 68,
   "id": "838b0694-7a19-48b6-a9ac-fd3f1077d588",
   "metadata": {},
   "outputs": [
    {
     "data": {
      "image/png": "[encoded data removed]",
      "text/plain": [
       "<Figure size 640x480 with 1 Axes>"
      ]
     },
     "metadata": {},
     "output_type": "display_data"
    }
   ],
   "source": [
    "loss_plot(loss_ewc)"
   ]
  },
  {
   "cell_type": "code",
   "execution_count": 69,
   "id": "c607e794-e7fa-4561-b81e-7a4e43380b7f",
   "metadata": {},
   "outputs": [
    {
     "data": {
      "image/png": "[encoded data removed]",
      "text/plain": [
       "<Figure size 640x480 with 1 Axes>"
      ]
     },
     "metadata": {},
     "output_type": "display_data"
    }
   ],
   "source": [
    "accuracy_plot(acc_ewc)"
   ]
  },
  {
   "cell_type": "code",
   "execution_count": null,
   "id": "b59cd0eb-680f-49e6-a98e-f883c86e1f06",
   "metadata": {},
   "outputs": [],
   "source": []
  },
  {
   "cell_type": "code",
   "execution_count": null,
   "id": "335850ee-5ec1-4a7c-8768-4c024d4d7687",
   "metadata": {},
   "outputs": [],
   "source": []
  },
  {
   "cell_type": "code",
   "execution_count": null,
   "id": "4bf49cbc-a277-44c0-b4de-1e712d37e057",
   "metadata": {},
   "outputs": [],
   "source": []
  },
  {
   "cell_type": "code",
   "execution_count": null,
   "id": "600caac2-e30f-4352-ac0e-b5bbcdd9dd33",
   "metadata": {},
   "outputs": [],
   "source": []
  },
  {
   "cell_type": "code",
   "execution_count": null,
   "id": "b0fa9814-d77f-4da0-b03e-d46befae74d1",
   "metadata": {},
   "outputs": [],
   "source": [
    "\n",
    "# how to test\n",
    "\n",
    "# For normal train\n",
    "# train a model on task 1 and then train same model on task 2\n",
    "# plot the loss \n",
    "# plot the accuracy -> for dataset of both the tasks\n",
    "\n",
    "# For EWC train\n",
    "# train a model on task 1 and then train same model on task 2 using EWC penalty \n",
    "# plot the loss\n",
    "# plot the accuracy -> for dataset of both the tasks"
   ]
  }
 ],
 "metadata": {
  "kernelspec": {
   "display_name": "Cuda118",
   "language": "python",
   "name": "cuda118"
  },
  "language_info": {
   "codemirror_mode": {
    "name": "ipython",
    "version": 3
   },
   "file_extension": ".py",
   "mimetype": "text/x-python",
   "name": "python",
   "nbconvert_exporter": "python",
   "pygments_lexer": "ipython3",
   "version": "3.12.3"
  }
 },
 "nbformat": 4,
 "nbformat_minor": 5
}
