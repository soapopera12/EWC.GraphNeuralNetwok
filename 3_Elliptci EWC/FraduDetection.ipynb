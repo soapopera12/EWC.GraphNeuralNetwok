{
 "cells": [
  {
   "cell_type": "markdown",
   "id": "238edc0d-3a6c-46d5-b74d-2a9f9a2cddc6",
   "metadata": {},
   "source": [
    "## Loading libraries"
   ]
  },
  {
   "cell_type": "code",
   "execution_count": 1,
   "id": "0c43b69e-e6a9-48d8-80e2-c93e2dd90800",
   "metadata": {},
   "outputs": [],
   "source": [
    "import numpy as np"
   ]
  },
  {
   "cell_type": "code",
   "execution_count": 2,
   "id": "1f59ed81-5137-4b72-88b9-c9b7193adc76",
   "metadata": {},
   "outputs": [],
   "source": [
    "import pandas as pd"
   ]
  },
  {
   "cell_type": "code",
   "execution_count": 3,
   "id": "2e13d111-18ed-4adc-8edc-b14119389e4e",
   "metadata": {},
   "outputs": [],
   "source": [
    "# sklearn\n",
    "from sklearn.model_selection import KFold, train_test_split\n",
    "from sklearn.metrics import accuracy_score, f1_score, roc_auc_score, precision_score, classification_report, recall_score, confusion_matrix"
   ]
  },
  {
   "cell_type": "code",
   "execution_count": 4,
   "id": "aed1296e-234d-42c9-9d65-c9bef4f5394c",
   "metadata": {},
   "outputs": [],
   "source": [
    "import matplotlib.pyplot as plt"
   ]
  },
  {
   "cell_type": "code",
   "execution_count": 5,
   "id": "de6c2a93-93f5-4b1d-89e1-d9c484b0fdf7",
   "metadata": {},
   "outputs": [],
   "source": [
    "import scipy.sparse as sp"
   ]
  },
  {
   "cell_type": "code",
   "execution_count": 6,
   "id": "2018b4c9-c540-475d-9e7d-a9d099bb7042",
   "metadata": {},
   "outputs": [],
   "source": [
    "# torch\n",
    "import torch\n",
    "import torch_scatter\n",
    "import torch.nn as nn\n",
    "from torch import Tensor\n",
    "import torch.nn.functional as F\n",
    "from torch_sparse import SparseTensor, set_diag\n",
    "from torch.nn import Linear, LayerNorm, ReLU, Dropout, Parameter, Linear"
   ]
  },
  {
   "cell_type": "code",
   "execution_count": 7,
   "id": "294ca03e-97cb-4ce8-8ea5-7eaa429d8ae0",
   "metadata": {},
   "outputs": [],
   "source": [
    "# PyG\n",
    "import torch_geometric.nn as pyg_nn\n",
    "import torch_geometric.utils as pyg_utils\n",
    "from torch_geometric.loader import NeighborLoader\n",
    "from torch_geometric.data import Data, DataLoader\n",
    "from torch_geometric.nn.conv import MessagePassing\n",
    "from torch_geometric.nn.norm.batch_norm import BatchNorm\n",
    "from torch_geometric.nn import GCNConv,GATConv,GATv2Conv\n",
    "from torch_geometric.typing import (OptPairTensor, Adj, Size, NoneType, OptTensor)\n",
    "from torch_geometric.utils import remove_self_loops, add_self_loops, softmax, degree"
   ]
  },
  {
   "cell_type": "code",
   "execution_count": 165,
   "id": "49769193-25df-4f1d-be65-cf25d86e6d80",
   "metadata": {},
   "outputs": [],
   "source": [
    "# utilities\n",
    "import random\n",
    "import pickle\n",
    "import warnings\n",
    "warnings.filterwarnings(\"ignore\")\n",
    "from tqdm import tqdm\n",
    "from typing import Union, Tuple, Optional"
   ]
  },
  {
   "cell_type": "code",
   "execution_count": 9,
   "id": "8adff7d7-2fa9-403c-9ed9-962d1ba84968",
   "metadata": {},
   "outputs": [],
   "source": [
    "device = torch.device('cuda' if torch.cuda.is_available() else 'cpu')"
   ]
  },
  {
   "cell_type": "markdown",
   "id": "620021df-1dd7-4803-b51f-3de4fc1d0476",
   "metadata": {},
   "source": [
    "## Getting the data"
   ]
  },
  {
   "cell_type": "code",
   "execution_count": 10,
   "id": "7ff7a1c8-e1af-45dd-807d-67c03852fede",
   "metadata": {},
   "outputs": [],
   "source": [
    "# FOLDERNAME = \"/content/\"\n",
    "# import sys\n",
    "# sys.path.append(FOLDERNAME)"
   ]
  },
  {
   "cell_type": "code",
   "execution_count": 63,
   "id": "0410cb72-6c0e-4a34-96b7-33c429c2e524",
   "metadata": {},
   "outputs": [],
   "source": [
    "df_features = pd.read_csv('../../4_Elliptic_Bitcoin_Dataset_Fraud_detection_Standford/content/elliptic_txs_features.csv',header=None)\n",
    "df_edges = pd.read_csv(\"../../4_Elliptic_Bitcoin_Dataset_Fraud_detection_Standford/content/elliptic_txs_edgelist.csv\")\n",
    "df_classes =  pd.read_csv(\"../../4_Elliptic_Bitcoin_Dataset_Fraud_detection_Standford/content/elliptic_txs_classes.csv\")"
   ]
  },
  {
   "cell_type": "code",
   "execution_count": 64,
   "id": "d80bfe51-ec09-46e3-b3c2-524a6039a5dd",
   "metadata": {},
   "outputs": [],
   "source": [
    "# Add class names for easy understanding\n",
    "# reformat classes 0:licit, 1:illicit, 2:unknow \n",
    "df_classes['class'] = df_classes['class'].map({'unknown': 2, '1':1, '2':0}) "
   ]
  },
  {
   "cell_type": "markdown",
   "id": "c9683c70-7d2f-4cdc-8d6a-b7350915a54f",
   "metadata": {},
   "source": [
    "## Simple EDA"
   ]
  },
  {
   "cell_type": "code",
   "execution_count": 65,
   "id": "a71d1d38-1ab0-442e-ab73-a2f000bee0df",
   "metadata": {},
   "outputs": [
    {
     "data": {
      "text/plain": [
       "<BarContainer object of 3 artists>"
      ]
     },
     "execution_count": 65,
     "metadata": {},
     "output_type": "execute_result"
    },
    {
     "data": {
      "image/png": "[encoded data removed]",
      "text/plain": [
       "<Figure size 640x480 with 1 Axes>"
      ]
     },
     "metadata": {},
     "output_type": "display_data"
    }
   ],
   "source": [
    "# See repartition of nodes per class\n",
    "group_class = df_classes.groupby('class').count()\n",
    "plt.title(\"# of nodes per class\")\n",
    "plt.barh([ 'Licit','Illicit', 'Unknown'], group_class['txId'].values, color=['g', 'orange', 'r'] )"
   ]
  },
  {
   "cell_type": "code",
   "execution_count": 66,
   "id": "bed65fc1-6430-4a91-86ca-3d77535ae4a7",
   "metadata": {},
   "outputs": [
    {
     "data": {
      "text/html": [
       "<div>\n",
       "<style scoped>\n",
       "    .dataframe tbody tr th:only-of-type {\n",
       "        vertical-align: middle;\n",
       "    }\n",
       "\n",
       "    .dataframe tbody tr th {\n",
       "        vertical-align: top;\n",
       "    }\n",
       "\n",
       "    .dataframe thead th {\n",
       "        text-align: right;\n",
       "    }\n",
       "</style>\n",
       "<table border=\"1\" class=\"dataframe\">\n",
       "  <thead>\n",
       "    <tr style=\"text-align: right;\">\n",
       "      <th></th>\n",
       "      <th>0</th>\n",
       "      <th>1</th>\n",
       "      <th>2</th>\n",
       "      <th>3</th>\n",
       "      <th>4</th>\n",
       "      <th>5</th>\n",
       "      <th>6</th>\n",
       "      <th>7</th>\n",
       "      <th>8</th>\n",
       "      <th>9</th>\n",
       "      <th>...</th>\n",
       "      <th>157</th>\n",
       "      <th>158</th>\n",
       "      <th>159</th>\n",
       "      <th>160</th>\n",
       "      <th>161</th>\n",
       "      <th>162</th>\n",
       "      <th>163</th>\n",
       "      <th>164</th>\n",
       "      <th>165</th>\n",
       "      <th>166</th>\n",
       "    </tr>\n",
       "  </thead>\n",
       "  <tbody>\n",
       "    <tr>\n",
       "      <th>0</th>\n",
       "      <td>230425980</td>\n",
       "      <td>1</td>\n",
       "      <td>-0.171469</td>\n",
       "      <td>-0.184668</td>\n",
       "      <td>-1.201369</td>\n",
       "      <td>-0.121970</td>\n",
       "      <td>-0.043875</td>\n",
       "      <td>-0.113002</td>\n",
       "      <td>-0.061584</td>\n",
       "      <td>-0.162097</td>\n",
       "      <td>...</td>\n",
       "      <td>-0.562153</td>\n",
       "      <td>-0.600999</td>\n",
       "      <td>1.461330</td>\n",
       "      <td>1.461369</td>\n",
       "      <td>0.018279</td>\n",
       "      <td>-0.087490</td>\n",
       "      <td>-0.131155</td>\n",
       "      <td>-0.097524</td>\n",
       "      <td>-0.120613</td>\n",
       "      <td>-0.119792</td>\n",
       "    </tr>\n",
       "    <tr>\n",
       "      <th>1</th>\n",
       "      <td>5530458</td>\n",
       "      <td>1</td>\n",
       "      <td>-0.171484</td>\n",
       "      <td>-0.184668</td>\n",
       "      <td>-1.201369</td>\n",
       "      <td>-0.121970</td>\n",
       "      <td>-0.043875</td>\n",
       "      <td>-0.113002</td>\n",
       "      <td>-0.061584</td>\n",
       "      <td>-0.162112</td>\n",
       "      <td>...</td>\n",
       "      <td>0.947382</td>\n",
       "      <td>0.673103</td>\n",
       "      <td>-0.979074</td>\n",
       "      <td>-0.978556</td>\n",
       "      <td>0.018279</td>\n",
       "      <td>-0.087490</td>\n",
       "      <td>-0.131155</td>\n",
       "      <td>-0.097524</td>\n",
       "      <td>-0.120613</td>\n",
       "      <td>-0.119792</td>\n",
       "    </tr>\n",
       "    <tr>\n",
       "      <th>2</th>\n",
       "      <td>232022460</td>\n",
       "      <td>1</td>\n",
       "      <td>-0.172107</td>\n",
       "      <td>-0.184668</td>\n",
       "      <td>-1.201369</td>\n",
       "      <td>-0.121970</td>\n",
       "      <td>-0.043875</td>\n",
       "      <td>-0.113002</td>\n",
       "      <td>-0.061584</td>\n",
       "      <td>-0.162749</td>\n",
       "      <td>...</td>\n",
       "      <td>0.670883</td>\n",
       "      <td>0.439728</td>\n",
       "      <td>-0.979074</td>\n",
       "      <td>-0.978556</td>\n",
       "      <td>-0.098889</td>\n",
       "      <td>-0.106715</td>\n",
       "      <td>-0.131155</td>\n",
       "      <td>-0.183671</td>\n",
       "      <td>-0.120613</td>\n",
       "      <td>-0.119792</td>\n",
       "    </tr>\n",
       "    <tr>\n",
       "      <th>3</th>\n",
       "      <td>232438397</td>\n",
       "      <td>1</td>\n",
       "      <td>0.163054</td>\n",
       "      <td>1.963790</td>\n",
       "      <td>-0.646376</td>\n",
       "      <td>12.409294</td>\n",
       "      <td>-0.063725</td>\n",
       "      <td>9.782742</td>\n",
       "      <td>12.414558</td>\n",
       "      <td>-0.163645</td>\n",
       "      <td>...</td>\n",
       "      <td>-0.577099</td>\n",
       "      <td>-0.613614</td>\n",
       "      <td>0.241128</td>\n",
       "      <td>0.241406</td>\n",
       "      <td>1.072793</td>\n",
       "      <td>0.085530</td>\n",
       "      <td>-0.131155</td>\n",
       "      <td>0.677799</td>\n",
       "      <td>-0.120613</td>\n",
       "      <td>-0.119792</td>\n",
       "    </tr>\n",
       "    <tr>\n",
       "      <th>4</th>\n",
       "      <td>230460314</td>\n",
       "      <td>1</td>\n",
       "      <td>1.011523</td>\n",
       "      <td>-0.081127</td>\n",
       "      <td>-1.201369</td>\n",
       "      <td>1.153668</td>\n",
       "      <td>0.333276</td>\n",
       "      <td>1.312656</td>\n",
       "      <td>-0.061584</td>\n",
       "      <td>-0.163523</td>\n",
       "      <td>...</td>\n",
       "      <td>-0.511871</td>\n",
       "      <td>-0.400422</td>\n",
       "      <td>0.517257</td>\n",
       "      <td>0.579382</td>\n",
       "      <td>0.018279</td>\n",
       "      <td>0.277775</td>\n",
       "      <td>0.326394</td>\n",
       "      <td>1.293750</td>\n",
       "      <td>0.178136</td>\n",
       "      <td>0.179117</td>\n",
       "    </tr>\n",
       "  </tbody>\n",
       "</table>\n",
       "<p>5 rows × 167 columns</p>\n",
       "</div>"
      ],
      "text/plain": [
       "         0    1         2         3         4          5         6    \\\n",
       "0  230425980    1 -0.171469 -0.184668 -1.201369  -0.121970 -0.043875   \n",
       "1    5530458    1 -0.171484 -0.184668 -1.201369  -0.121970 -0.043875   \n",
       "2  232022460    1 -0.172107 -0.184668 -1.201369  -0.121970 -0.043875   \n",
       "3  232438397    1  0.163054  1.963790 -0.646376  12.409294 -0.063725   \n",
       "4  230460314    1  1.011523 -0.081127 -1.201369   1.153668  0.333276   \n",
       "\n",
       "        7          8         9    ...       157       158       159       160  \\\n",
       "0 -0.113002  -0.061584 -0.162097  ... -0.562153 -0.600999  1.461330  1.461369   \n",
       "1 -0.113002  -0.061584 -0.162112  ...  0.947382  0.673103 -0.979074 -0.978556   \n",
       "2 -0.113002  -0.061584 -0.162749  ...  0.670883  0.439728 -0.979074 -0.978556   \n",
       "3  9.782742  12.414558 -0.163645  ... -0.577099 -0.613614  0.241128  0.241406   \n",
       "4  1.312656  -0.061584 -0.163523  ... -0.511871 -0.400422  0.517257  0.579382   \n",
       "\n",
       "        161       162       163       164       165       166  \n",
       "0  0.018279 -0.087490 -0.131155 -0.097524 -0.120613 -0.119792  \n",
       "1  0.018279 -0.087490 -0.131155 -0.097524 -0.120613 -0.119792  \n",
       "2 -0.098889 -0.106715 -0.131155 -0.183671 -0.120613 -0.119792  \n",
       "3  1.072793  0.085530 -0.131155  0.677799 -0.120613 -0.119792  \n",
       "4  0.018279  0.277775  0.326394  1.293750  0.178136  0.179117  \n",
       "\n",
       "[5 rows x 167 columns]"
      ]
     },
     "execution_count": 66,
     "metadata": {},
     "output_type": "execute_result"
    }
   ],
   "source": [
    "# View node features\n",
    "# Data is each node is a transaction ID, and edges are a bit weird, but its like a \"previous transaction\" edge type\n",
    "# colume 0 = transaction id\n",
    "df_features.head()"
   ]
  },
  {
   "cell_type": "code",
   "execution_count": 67,
   "id": "171a87c2-3950-42f2-b99b-3a68b2e94856",
   "metadata": {},
   "outputs": [
    {
     "data": {
      "text/plain": [
       "0          1\n",
       "1          1\n",
       "2          1\n",
       "3          1\n",
       "4          1\n",
       "          ..\n",
       "203764    49\n",
       "203765    49\n",
       "203766    49\n",
       "203767    49\n",
       "203768    49\n",
       "Name: 1, Length: 203769, dtype: int64"
      ]
     },
     "execution_count": 67,
     "metadata": {},
     "output_type": "execute_result"
    }
   ],
   "source": [
    "# columns 1 is time column and spans from 1 to 49\n",
    "# 1 corresponds to week 1 and week 2\n",
    "# 2 corresponds to week 3 and week 4\n",
    "# and soo on till 40\n",
    "df_features[1]"
   ]
  },
  {
   "cell_type": "code",
   "execution_count": 68,
   "id": "efca2462-e4e0-45c2-bdf4-146aa040e3bf",
   "metadata": {},
   "outputs": [
    {
     "data": {
      "text/html": [
       "<div>\n",
       "<style scoped>\n",
       "    .dataframe tbody tr th:only-of-type {\n",
       "        vertical-align: middle;\n",
       "    }\n",
       "\n",
       "    .dataframe tbody tr th {\n",
       "        vertical-align: top;\n",
       "    }\n",
       "\n",
       "    .dataframe thead th {\n",
       "        text-align: right;\n",
       "    }\n",
       "</style>\n",
       "<table border=\"1\" class=\"dataframe\">\n",
       "  <thead>\n",
       "    <tr style=\"text-align: right;\">\n",
       "      <th></th>\n",
       "      <th>txId1</th>\n",
       "      <th>txId2</th>\n",
       "    </tr>\n",
       "  </thead>\n",
       "  <tbody>\n",
       "    <tr>\n",
       "      <th>0</th>\n",
       "      <td>230425980</td>\n",
       "      <td>5530458</td>\n",
       "    </tr>\n",
       "    <tr>\n",
       "      <th>1</th>\n",
       "      <td>232022460</td>\n",
       "      <td>232438397</td>\n",
       "    </tr>\n",
       "    <tr>\n",
       "      <th>2</th>\n",
       "      <td>230460314</td>\n",
       "      <td>230459870</td>\n",
       "    </tr>\n",
       "    <tr>\n",
       "      <th>3</th>\n",
       "      <td>230333930</td>\n",
       "      <td>230595899</td>\n",
       "    </tr>\n",
       "    <tr>\n",
       "      <th>4</th>\n",
       "      <td>232013274</td>\n",
       "      <td>232029206</td>\n",
       "    </tr>\n",
       "  </tbody>\n",
       "</table>\n",
       "</div>"
      ],
      "text/plain": [
       "       txId1      txId2\n",
       "0  230425980    5530458\n",
       "1  232022460  232438397\n",
       "2  230460314  230459870\n",
       "3  230333930  230595899\n",
       "4  232013274  232029206"
      ]
     },
     "execution_count": 68,
     "metadata": {},
     "output_type": "execute_result"
    }
   ],
   "source": [
    "df_edges.head()"
   ]
  },
  {
   "cell_type": "code",
   "execution_count": 69,
   "id": "7682747b-8eb3-425b-8c8f-cbed39422029",
   "metadata": {},
   "outputs": [
    {
     "data": {
      "text/html": [
       "<div>\n",
       "<style scoped>\n",
       "    .dataframe tbody tr th:only-of-type {\n",
       "        vertical-align: middle;\n",
       "    }\n",
       "\n",
       "    .dataframe tbody tr th {\n",
       "        vertical-align: top;\n",
       "    }\n",
       "\n",
       "    .dataframe thead th {\n",
       "        text-align: right;\n",
       "    }\n",
       "</style>\n",
       "<table border=\"1\" class=\"dataframe\">\n",
       "  <thead>\n",
       "    <tr style=\"text-align: right;\">\n",
       "      <th></th>\n",
       "      <th>txId</th>\n",
       "      <th>class</th>\n",
       "    </tr>\n",
       "  </thead>\n",
       "  <tbody>\n",
       "    <tr>\n",
       "      <th>0</th>\n",
       "      <td>230425980</td>\n",
       "      <td>2</td>\n",
       "    </tr>\n",
       "    <tr>\n",
       "      <th>1</th>\n",
       "      <td>5530458</td>\n",
       "      <td>2</td>\n",
       "    </tr>\n",
       "    <tr>\n",
       "      <th>2</th>\n",
       "      <td>232022460</td>\n",
       "      <td>2</td>\n",
       "    </tr>\n",
       "    <tr>\n",
       "      <th>3</th>\n",
       "      <td>232438397</td>\n",
       "      <td>0</td>\n",
       "    </tr>\n",
       "    <tr>\n",
       "      <th>4</th>\n",
       "      <td>230460314</td>\n",
       "      <td>2</td>\n",
       "    </tr>\n",
       "  </tbody>\n",
       "</table>\n",
       "</div>"
      ],
      "text/plain": [
       "        txId  class\n",
       "0  230425980      2\n",
       "1    5530458      2\n",
       "2  232022460      2\n",
       "3  232438397      0\n",
       "4  230460314      2"
      ]
     },
     "execution_count": 69,
     "metadata": {},
     "output_type": "execute_result"
    }
   ],
   "source": [
    "df_classes.head()"
   ]
  },
  {
   "cell_type": "markdown",
   "id": "caa685fd-ec2b-4410-8a10-c99acc00312e",
   "metadata": {},
   "source": [
    "## Preparing graph data object"
   ]
  },
  {
   "cell_type": "code",
   "execution_count": 70,
   "id": "3c622857-4f77-418f-bdf9-d29c775400b0",
   "metadata": {},
   "outputs": [
    {
     "data": {
      "text/html": [
       "<div>\n",
       "<style scoped>\n",
       "    .dataframe tbody tr th:only-of-type {\n",
       "        vertical-align: middle;\n",
       "    }\n",
       "\n",
       "    .dataframe tbody tr th {\n",
       "        vertical-align: top;\n",
       "    }\n",
       "\n",
       "    .dataframe thead th {\n",
       "        text-align: right;\n",
       "    }\n",
       "</style>\n",
       "<table border=\"1\" class=\"dataframe\">\n",
       "  <thead>\n",
       "    <tr style=\"text-align: right;\">\n",
       "      <th></th>\n",
       "      <th>0</th>\n",
       "      <th>1</th>\n",
       "      <th>2</th>\n",
       "      <th>3</th>\n",
       "      <th>4</th>\n",
       "      <th>5</th>\n",
       "      <th>6</th>\n",
       "      <th>7</th>\n",
       "      <th>8</th>\n",
       "      <th>9</th>\n",
       "      <th>...</th>\n",
       "      <th>159</th>\n",
       "      <th>160</th>\n",
       "      <th>161</th>\n",
       "      <th>162</th>\n",
       "      <th>163</th>\n",
       "      <th>164</th>\n",
       "      <th>165</th>\n",
       "      <th>166</th>\n",
       "      <th>txId</th>\n",
       "      <th>class</th>\n",
       "    </tr>\n",
       "  </thead>\n",
       "  <tbody>\n",
       "    <tr>\n",
       "      <th>0</th>\n",
       "      <td>1076</td>\n",
       "      <td>48</td>\n",
       "      <td>-0.168500</td>\n",
       "      <td>0.270909</td>\n",
       "      <td>-0.091383</td>\n",
       "      <td>-0.046932</td>\n",
       "      <td>-0.043875</td>\n",
       "      <td>-0.029140</td>\n",
       "      <td>-0.061584</td>\n",
       "      <td>-0.163591</td>\n",
       "      <td>...</td>\n",
       "      <td>1.461330</td>\n",
       "      <td>1.461369</td>\n",
       "      <td>0.018279</td>\n",
       "      <td>0.470019</td>\n",
       "      <td>1.216796</td>\n",
       "      <td>1.151607</td>\n",
       "      <td>1.519700</td>\n",
       "      <td>1.521399</td>\n",
       "      <td>1076</td>\n",
       "      <td>2</td>\n",
       "    </tr>\n",
       "    <tr>\n",
       "      <th>1</th>\n",
       "      <td>2534</td>\n",
       "      <td>6</td>\n",
       "      <td>-0.170834</td>\n",
       "      <td>-0.131425</td>\n",
       "      <td>1.018602</td>\n",
       "      <td>0.028105</td>\n",
       "      <td>0.055376</td>\n",
       "      <td>0.054722</td>\n",
       "      <td>-0.061584</td>\n",
       "      <td>-0.163572</td>\n",
       "      <td>...</td>\n",
       "      <td>0.955101</td>\n",
       "      <td>0.459257</td>\n",
       "      <td>-0.098889</td>\n",
       "      <td>-0.087490</td>\n",
       "      <td>-0.099080</td>\n",
       "      <td>-0.122137</td>\n",
       "      <td>-0.379970</td>\n",
       "      <td>-0.379288</td>\n",
       "      <td>2534</td>\n",
       "      <td>0</td>\n",
       "    </tr>\n",
       "    <tr>\n",
       "      <th>2</th>\n",
       "      <td>3181</td>\n",
       "      <td>34</td>\n",
       "      <td>1.305212</td>\n",
       "      <td>-0.210553</td>\n",
       "      <td>-1.756361</td>\n",
       "      <td>-0.121970</td>\n",
       "      <td>97.300650</td>\n",
       "      <td>-0.113002</td>\n",
       "      <td>-0.061584</td>\n",
       "      <td>1.348765</td>\n",
       "      <td>...</td>\n",
       "      <td>0.059948</td>\n",
       "      <td>0.113967</td>\n",
       "      <td>-0.098889</td>\n",
       "      <td>1.969527</td>\n",
       "      <td>0.037532</td>\n",
       "      <td>-0.131010</td>\n",
       "      <td>0.006994</td>\n",
       "      <td>0.017772</td>\n",
       "      <td>3181</td>\n",
       "      <td>0</td>\n",
       "    </tr>\n",
       "    <tr>\n",
       "      <th>3</th>\n",
       "      <td>3321</td>\n",
       "      <td>1</td>\n",
       "      <td>-0.169615</td>\n",
       "      <td>-0.184668</td>\n",
       "      <td>-1.201369</td>\n",
       "      <td>-0.121970</td>\n",
       "      <td>-0.043875</td>\n",
       "      <td>-0.113002</td>\n",
       "      <td>-0.061584</td>\n",
       "      <td>-0.160199</td>\n",
       "      <td>...</td>\n",
       "      <td>0.241128</td>\n",
       "      <td>0.241406</td>\n",
       "      <td>-0.098889</td>\n",
       "      <td>-0.087490</td>\n",
       "      <td>-0.084674</td>\n",
       "      <td>-0.140597</td>\n",
       "      <td>1.519700</td>\n",
       "      <td>1.521399</td>\n",
       "      <td>3321</td>\n",
       "      <td>2</td>\n",
       "    </tr>\n",
       "    <tr>\n",
       "      <th>4</th>\n",
       "      <td>3889</td>\n",
       "      <td>48</td>\n",
       "      <td>-0.086232</td>\n",
       "      <td>-0.101835</td>\n",
       "      <td>-0.646376</td>\n",
       "      <td>-0.121970</td>\n",
       "      <td>17.046997</td>\n",
       "      <td>-0.113002</td>\n",
       "      <td>-0.061584</td>\n",
       "      <td>-0.074885</td>\n",
       "      <td>...</td>\n",
       "      <td>0.082065</td>\n",
       "      <td>0.114773</td>\n",
       "      <td>-0.098889</td>\n",
       "      <td>8.948005</td>\n",
       "      <td>1.024948</td>\n",
       "      <td>-0.009570</td>\n",
       "      <td>-0.080708</td>\n",
       "      <td>-0.123601</td>\n",
       "      <td>3889</td>\n",
       "      <td>2</td>\n",
       "    </tr>\n",
       "  </tbody>\n",
       "</table>\n",
       "<p>5 rows × 169 columns</p>\n",
       "</div>"
      ],
      "text/plain": [
       "      0   1         2         3         4         5          6         7  \\\n",
       "0  1076  48 -0.168500  0.270909 -0.091383 -0.046932  -0.043875 -0.029140   \n",
       "1  2534   6 -0.170834 -0.131425  1.018602  0.028105   0.055376  0.054722   \n",
       "2  3181  34  1.305212 -0.210553 -1.756361 -0.121970  97.300650 -0.113002   \n",
       "3  3321   1 -0.169615 -0.184668 -1.201369 -0.121970  -0.043875 -0.113002   \n",
       "4  3889  48 -0.086232 -0.101835 -0.646376 -0.121970  17.046997 -0.113002   \n",
       "\n",
       "          8         9  ...       159       160       161       162       163  \\\n",
       "0 -0.061584 -0.163591  ...  1.461330  1.461369  0.018279  0.470019  1.216796   \n",
       "1 -0.061584 -0.163572  ...  0.955101  0.459257 -0.098889 -0.087490 -0.099080   \n",
       "2 -0.061584  1.348765  ...  0.059948  0.113967 -0.098889  1.969527  0.037532   \n",
       "3 -0.061584 -0.160199  ...  0.241128  0.241406 -0.098889 -0.087490 -0.084674   \n",
       "4 -0.061584 -0.074885  ...  0.082065  0.114773 -0.098889  8.948005  1.024948   \n",
       "\n",
       "        164       165       166  txId  class  \n",
       "0  1.151607  1.519700  1.521399  1076      2  \n",
       "1 -0.122137 -0.379970 -0.379288  2534      0  \n",
       "2 -0.131010  0.006994  0.017772  3181      0  \n",
       "3 -0.140597  1.519700  1.521399  3321      2  \n",
       "4 -0.009570 -0.080708 -0.123601  3889      2  \n",
       "\n",
       "[5 rows x 169 columns]"
      ]
     },
     "execution_count": 70,
     "metadata": {},
     "output_type": "execute_result"
    }
   ],
   "source": [
    "# Merge features with classes\n",
    "df_merge = df_features.merge(df_classes, how='left', right_on=\"txId\", left_on=0)\n",
    "df_merge = df_merge.sort_values(0).reset_index(drop=True)\n",
    "df_merge.head()"
   ]
  },
  {
   "cell_type": "code",
   "execution_count": 71,
   "id": "1cf95ecb-23a5-4d89-bf88-81afd0d94545",
   "metadata": {},
   "outputs": [],
   "source": [
    "#We map all nodes to indices, and filter edges data by mapping txid1 and txid2 with the indices. We convert it to tensors, and initialize a weight tensor with the same length of the edge index and with values 1."
   ]
  },
  {
   "cell_type": "code",
   "execution_count": 72,
   "id": "15a0ed5c-0fb0-4db0-8041-8a51df12e689",
   "metadata": {},
   "outputs": [
    {
     "name": "stdout",
     "output_type": "stream",
     "text": [
      "shape of edge index is torch.Size([2, 234355])\n"
     ]
    },
    {
     "data": {
      "text/plain": [
       "tensor([[138670, 141325, 139232,  ..., 100420,  54833, 101159],\n",
       "        [  4142, 142201, 139223,  ..., 100419,  81951, 101163]])"
      ]
     },
     "execution_count": 72,
     "metadata": {},
     "output_type": "execute_result"
    }
   ],
   "source": [
    "# Setup trans ID to node ID mapping\n",
    "nodes = df_merge[0].values\n",
    "\n",
    "map_id = {j:i for i,j in enumerate(nodes)} # mapping nodes to indexes\n",
    "\n",
    "# Create edge df that has transID mapped to nodeIDs\n",
    "edges = df_edges.copy()\n",
    "edges.txId1 = edges.txId1.map(map_id) #get nodes idx1 from edges list and filtered data\n",
    "edges.txId2 = edges.txId2.map(map_id)\n",
    "\n",
    "edges = edges.astype(int)\n",
    "\n",
    "edge_index = np.array(edges.values).T #convert into an array\n",
    "edge_index = torch.tensor(edge_index, dtype=torch.long).contiguous() # create a tensor\n",
    "\n",
    "print(\"shape of edge index is {}\".format(edge_index.shape))\n",
    "edge_index\n"
   ]
  },
  {
   "cell_type": "code",
   "execution_count": 73,
   "id": "114270df-d522-4601-987a-bdd78861cc87",
   "metadata": {},
   "outputs": [],
   "source": [
    "#create weights tensor with same shape of edge_index\n",
    "weights = torch.tensor([1]* edge_index.shape[1] , dtype=torch.double) "
   ]
  },
  {
   "cell_type": "code",
   "execution_count": 74,
   "id": "3e495478-1fe1-4ee6-8d48-042ace702aa0",
   "metadata": {},
   "outputs": [
    {
     "name": "stdout",
     "output_type": "stream",
     "text": [
      "lables [0 1 2]\n"
     ]
    },
    {
     "data": {
      "text/plain": [
       "array([2, 0, 0, ..., 2, 2, 2], dtype=int64)"
      ]
     },
     "execution_count": 74,
     "metadata": {},
     "output_type": "execute_result"
    }
   ],
   "source": [
    "# Define labels\n",
    "labels = df_merge['class'].values\n",
    "print(\"lables\", np.unique(labels))\n",
    "labels"
   ]
  },
  {
   "cell_type": "code",
   "execution_count": 80,
   "id": "ac1b3870-24e9-4a03-b0bd-e62d05d788da",
   "metadata": {},
   "outputs": [],
   "source": [
    "# for EWC\n",
    "task1_indices = df_merge[df_merge[1] <= 25].index.tolist()\n",
    "task2_indices = df_merge[df_merge[1] > 25].index.tolist()"
   ]
  },
  {
   "cell_type": "code",
   "execution_count": 81,
   "id": "a1582149-793c-495b-bb3b-e8fae58c0476",
   "metadata": {},
   "outputs": [
    {
     "name": "stdout",
     "output_type": "stream",
     "text": [
      "unique= [2 0 1]\n"
     ]
    },
    {
     "data": {
      "text/plain": [
       "tensor([[-0.1685,  0.2709, -0.0914,  ...,  1.1516,  1.5197,  1.5214],\n",
       "        [-0.1708, -0.1314,  1.0186,  ..., -0.1221, -0.3800, -0.3793],\n",
       "        [ 1.3052, -0.2106, -1.7564,  ..., -0.1310,  0.0070,  0.0178],\n",
       "        ...,\n",
       "        [-0.1727, -0.1588, -1.2014,  ..., -0.2698, -0.1206, -0.1198],\n",
       "        [-0.1727, -0.1588, -1.2014,  ..., -0.2698, -0.1206, -0.1198],\n",
       "        [-0.1433, -0.1588, -1.2014,  ..., -0.0975, -0.1206, -0.1198]],\n",
       "       dtype=torch.float64)"
      ]
     },
     "execution_count": 81,
     "metadata": {},
     "output_type": "execute_result"
    }
   ],
   "source": [
    "# mapping txIds to corresponding indices, to pass node features to the model\n",
    "\n",
    "node_features = df_merge.drop(['txId'], axis=1).copy()\n",
    "# node_features[0] = node_features[0].map(map_id) # Convert transaction ID to node ID \\\n",
    "print(\"unique=\",node_features[\"class\"].unique())\n",
    "\n",
    "# Retain known vs unknown IDs\n",
    "classified_idx = node_features['class'].loc[node_features['class']!=2].index # filter on known labels\n",
    "unclassified_idx = node_features['class'].loc[node_features['class']==2].index\n",
    "\n",
    "classified_illicit_idx = node_features['class'].loc[node_features['class']==1].index # filter on illicit labels\n",
    "classified_licit_idx = node_features['class'].loc[node_features['class']==0].index # filter on licit labels\n",
    "\n",
    "# Drop unwanted columns, 0 = transID, 1=time period, class = labels\n",
    "node_features = node_features.drop(columns=[0, 1, 'class'])\n",
    "\n",
    "# Convert to tensor\n",
    "node_features_t = torch.tensor(np.array(node_features.values, dtype=np.double), dtype=torch.double)# drop unused columns\n",
    "node_features_t"
   ]
  },
  {
   "cell_type": "code",
   "execution_count": 90,
   "id": "27bd05b7-4fa5-4613-b1a9-f4dc97b5b6a9",
   "metadata": {},
   "outputs": [
    {
     "name": "stdout",
     "output_type": "stream",
     "text": [
      "train_idx size 39579\n",
      "tets_idx size 6985\n"
     ]
    }
   ],
   "source": [
    "# Create a known vs unknown mask\n",
    "train_idx, valid_idx = train_test_split(classified_idx.values, test_size=0.15)\n",
    "print(\"train_idx size {}\".format(len(train_idx)))\n",
    "print(\"tets_idx size {}\".format(len(valid_idx)))"
   ]
  },
  {
   "cell_type": "code",
   "execution_count": 91,
   "id": "92ad6db9-4a1c-4d7d-a921-552a2ee0612b",
   "metadata": {},
   "outputs": [],
   "source": [
    "data_train = Data(x=node_features_t, edge_index=edge_index, edge_attr=weights, \n",
    "                               y=torch.tensor(labels, dtype=torch.double))\n",
    "# Add in the train and valid idx\n",
    "data_train.train_idx = train_idx\n",
    "data_train.valid_idx = valid_idx\n",
    "data_train.test_idx = unclassified_idx"
   ]
  },
  {
   "cell_type": "markdown",
   "id": "e4cf0895-d4b0-4f33-a85e-431ffd56d702",
   "metadata": {
    "jp-MarkdownHeadingCollapsed": true
   },
   "source": [
    "## testing for time"
   ]
  },
  {
   "cell_type": "code",
   "execution_count": 40,
   "id": "4d8e9592-eae5-414e-8a8a-d65ecb5e4673",
   "metadata": {},
   "outputs": [],
   "source": [
    "# these are indexes and not mask i need to pass mask not indexes to the neighborloader\n",
    "# fixing it"
   ]
  },
  {
   "cell_type": "code",
   "execution_count": 86,
   "id": "ddc00b37-ff7f-4fb6-be6f-23348ee1eb67",
   "metadata": {},
   "outputs": [
    {
     "data": {
      "text/plain": [
       "[1, 3, 24, 25, 26, 30, 33, 41, 54, 56, 61, 63, 64, 67, 68, 69, 70, 73, 80, 81]"
      ]
     },
     "execution_count": 86,
     "metadata": {},
     "output_type": "execute_result"
    }
   ],
   "source": [
    "task1_indices[:20]"
   ]
  },
  {
   "cell_type": "code",
   "execution_count": 87,
   "id": "a52e9662-9dba-451e-8ffc-7dfef669b364",
   "metadata": {},
   "outputs": [
    {
     "data": {
      "text/plain": [
       "[0, 2, 4, 5, 6, 7, 8, 9, 10, 11, 12, 13, 14, 15, 16, 17, 18, 19, 20, 21]"
      ]
     },
     "execution_count": 87,
     "metadata": {},
     "output_type": "execute_result"
    }
   ],
   "source": [
    "task2_indices[:20]"
   ]
  },
  {
   "cell_type": "code",
   "execution_count": null,
   "id": "43ad9efa-b489-4331-a02d-a06448fb14f2",
   "metadata": {},
   "outputs": [],
   "source": []
  },
  {
   "cell_type": "code",
   "execution_count": null,
   "id": "409dd80a-e9c0-40d3-a32a-5b88b7ac6230",
   "metadata": {},
   "outputs": [],
   "source": []
  },
  {
   "cell_type": "code",
   "execution_count": null,
   "id": "b3c27b47-1ef9-4c49-8d37-a9ebd18ae8d2",
   "metadata": {},
   "outputs": [],
   "source": []
  },
  {
   "cell_type": "markdown",
   "id": "2a72b220-1624-43be-88a4-440ce3780055",
   "metadata": {
    "jp-MarkdownHeadingCollapsed": true
   },
   "source": [
    "## DataLoader functions"
   ]
  },
  {
   "cell_type": "code",
   "execution_count": 35,
   "id": "c21a13c8-005c-4747-8412-9ab31c593a22",
   "metadata": {},
   "outputs": [],
   "source": [
    "def get_neighbor_loader(data, indices, neighbors_arr, batch_size):\n",
    "    \n",
    "    loader=NeighborLoader(\n",
    "        data,\n",
    "        input_nodes=indices,\n",
    "        num_neighbors=neighbors_arr, #around 70 nodes at a time -> 10 * 5 = 50 and 5 * 4 = 20 -> 50 + 20 = 70\n",
    "        batch_size=batch_size,\n",
    "        replace=False,\n",
    "        shuffle=True\n",
    "    )\n",
    "\n",
    "    return loader"
   ]
  },
  {
   "cell_type": "markdown",
   "id": "7a0f7b44-2d8b-4d2f-ba09-30254758a5c8",
   "metadata": {},
   "source": [
    "## GNN models"
   ]
  },
  {
   "cell_type": "markdown",
   "id": "9aaf8c46-ebdc-4a8b-9f43-4293de2f0cdb",
   "metadata": {
    "jp-MarkdownHeadingCollapsed": true
   },
   "source": [
    "### GCNConv"
   ]
  },
  {
   "cell_type": "code",
   "execution_count": 38,
   "id": "e6be5d45-4ab7-41a1-95bc-15b6ee1f9d99",
   "metadata": {},
   "outputs": [],
   "source": [
    "class Net(torch.nn.Module):\n",
    "    def __init__(self, hidden_channels):\n",
    "        super(Net, self).__init__()\n",
    "        self.conv1 = GCNConv(165, 128)\n",
    "        self.conv2 = GCNConv(128, 2)\n",
    "        self.classifier = Linear(2, 1)\n",
    "        self.double() #float64    # why was this needed?\n",
    "        #https://stackoverflow.com/questions/75102134/mat1-and-mat2-must-have-the-same-dtype\n",
    "\n",
    "    def forward(self, data):\n",
    "        x, edge_index = data.x, data.edge_index\n",
    "        h = self.conv1(x, edge_index)\n",
    "        h = h.tanh()\n",
    "        h = self.conv2(h, edge_index)\n",
    "        embeddings = h.tanh()  # Final GNN embedding space.\n",
    "        out = self.classifier(embeddings)\n",
    "        return F.sigmoid(out)"
   ]
  },
  {
   "cell_type": "code",
   "execution_count": null,
   "id": "bc3e848f-b7a4-4079-b8ba-172d755a7af9",
   "metadata": {},
   "outputs": [],
   "source": [
    "\n",
    "class GAT(torch.nn.Module):\n",
    "    def __init__(self,input_dim, hidden_dim, output_dim,args):\n",
    "        super(GAT, self).__init__()\n",
    "        #use our gat message passing \n",
    "        self.conv1 = GATConv(input_dim, hidden_dim, heads=args['heads'])\n",
    "        self.conv2 = GATConv(args['heads'] * hidden_dim, hidden_dim, heads=args['heads'])\n",
    "        \n",
    "        self.post_mp = nn.Sequential(\n",
    "            nn.Linear(args['heads'] * hidden_dim, hidden_dim), nn.Dropout(args['dropout'] ), \n",
    "            nn.Linear(hidden_dim, output_dim))\n",
    "        \n",
    "    def forward(self, data, adj=None):\n",
    "        x, edge_index = data.x, data.edge_index\n",
    "        # Layer 1\n",
    "        x = self.conv1(x, edge_index)\n",
    "        x = F.dropout(F.relu(x), p=args['dropout'], training=self.training)\n",
    "        # Layer 2\n",
    "        x = self.conv2(x, edge_index)\n",
    "        x = F.dropout(F.relu(x), p=args['dropout'], training=self.training)\n",
    "        # MLP output\n",
    "        x = self.post_mp(x)\n",
    "        return F.sigmoid(x)"
   ]
  },
  {
   "cell_type": "code",
   "execution_count": null,
   "id": "d7f75920-9d25-48ed-8412-85eb81b5b0a9",
   "metadata": {},
   "outputs": [],
   "source": [
    "class GATv2(torch.nn.Module):\n",
    "    def __init__(self,input_dim, hidden_dim, output_dim,args):\n",
    "        super(GATv2, self).__init__()\n",
    "        #use our gat message passing \n",
    "        self.conv1 = GATv2Conv(input_dim, hidden_dim, heads=args['heads'])\n",
    "        self.conv2 = GATv2Conv(args['heads'] * hidden_dim, hidden_dim, heads=args['heads'])\n",
    "        \n",
    "        self.post_mp = nn.Sequential(\n",
    "            nn.Linear(args['heads'] * hidden_dim, hidden_dim), nn.Dropout(args['dropout'] ), \n",
    "            nn.Linear(hidden_dim, output_dim))\n",
    "        \n",
    "    def forward(self, data, adj=None):\n",
    "        x, edge_index = data.x, data.edge_index\n",
    "        # Layer 1\n",
    "        x = self.conv1(x, edge_index)\n",
    "        x = F.dropout(F.relu(x), p=args['dropout'], training=self.training)\n",
    "        # Layer 2\n",
    "        x = self.conv2(x, edge_index)\n",
    "        x = F.dropout(F.relu(x), p=args['dropout'], training=self.training)\n",
    "        # MLP output\n",
    "        x = self.post_mp(x)\n",
    "        return F.sigmoid(x)\n"
   ]
  },
  {
   "cell_type": "code",
   "execution_count": 2,
   "id": "563702e1-6b29-4c33-ad0c-ece2fb612872",
   "metadata": {},
   "outputs": [
    {
     "ename": "NameError",
     "evalue": "name 'MessagePassing' is not defined",
     "output_type": "error",
     "traceback": [
      "\u001b[1;31m---------------------------------------------------------------------------\u001b[0m",
      "\u001b[1;31mNameError\u001b[0m                                 Traceback (most recent call last)",
      "Cell \u001b[1;32mIn[2], line 1\u001b[0m\n\u001b[1;32m----> 1\u001b[0m \u001b[38;5;28;01mclass\u001b[39;00m \u001b[38;5;21;01mmyGAT\u001b[39;00m(\u001b[43mMessagePassing\u001b[49m):\n\u001b[0;32m      2\u001b[0m     \u001b[38;5;28;01mdef\u001b[39;00m \u001b[38;5;21m__init__\u001b[39m(\u001b[38;5;28mself\u001b[39m, in_channels, out_channels, heads \u001b[38;5;241m=\u001b[39m \u001b[38;5;241m1\u001b[39m, \n\u001b[0;32m      3\u001b[0m                  negative_slope \u001b[38;5;241m=\u001b[39m \u001b[38;5;241m0.2\u001b[39m, dropout \u001b[38;5;241m=\u001b[39m \u001b[38;5;241m0.\u001b[39m, \u001b[38;5;241m*\u001b[39m\u001b[38;5;241m*\u001b[39mkwargs):\n\u001b[0;32m      4\u001b[0m         \u001b[38;5;28msuper\u001b[39m(myGAT, \u001b[38;5;28mself\u001b[39m)\u001b[38;5;241m.\u001b[39m\u001b[38;5;21m__init__\u001b[39m(node_dim\u001b[38;5;241m=\u001b[39m\u001b[38;5;241m0\u001b[39m, \u001b[38;5;241m*\u001b[39m\u001b[38;5;241m*\u001b[39mkwargs)\n",
      "\u001b[1;31mNameError\u001b[0m: name 'MessagePassing' is not defined"
     ]
    }
   ],
   "source": [
    "class myGAT(MessagePassing):\n",
    "    def __init__(self, in_channels, out_channels, heads = 1, \n",
    "                 negative_slope = 0.2, dropout = 0., **kwargs):\n",
    "        super(myGAT, self).__init__(node_dim=0, **kwargs)\n",
    "\n",
    "        self.in_channels = in_channels # node features input dimension\n",
    "        self.out_channels = out_channels # node level output dimension\n",
    "        self.heads = heads # No. of attention heads\n",
    "        self.negative_slope = negative_slope\n",
    "        self.dropout = dropout\n",
    "\n",
    "        self.lin_l = None\n",
    "        self.lin_r = None\n",
    "        self.att_l = None\n",
    "        self.att_r = None\n",
    "\n",
    "        # Initialization\n",
    "        self.lin_l = Linear(in_channels, heads*out_channels)\n",
    "        self.lin_r = self.lin_l\n",
    "        self.att_l = Parameter(torch.Tensor(1, heads, out_channels).float())\n",
    "        self.att_r = Parameter(torch.Tensor(1, heads, out_channels).float())\n",
    "        self.reset_parameters()\n",
    "\n",
    "    def reset_parameters(self):\n",
    "        nn.init.xavier_uniform_(self.lin_l.weight)\n",
    "        nn.init.xavier_uniform_(self.lin_r.weight)\n",
    "        nn.init.xavier_uniform_(self.att_l)\n",
    "        nn.init.xavier_uniform_(self.att_r)\n",
    "\n",
    "    def forward(self, x, edge_index, size = None):\n",
    "        \n",
    "        H, C = self.heads, self.out_channels # DIM：H, outC\n",
    "\n",
    "        #Linearly transform node feature matrix.\n",
    "        x_source = self.lin_l(x).view(-1,H,C) # DIM: [Nodex x In] [in x H * outC] => [nodes x H * outC] => [nodes, H, outC]\n",
    "        x_target = self.lin_r(x).view(-1,H,C) # DIM: [Nodex x In] [in x H * outC] => [nodes x H * outC] => [nodes, H, outC]\n",
    "\n",
    "        # Alphas will be used to calculate attention later\n",
    "        alpha_l = (x_source * self.att_l).sum(dim=-1) # DIM: [nodes, H, outC] x [H, outC] => [nodes, H]\n",
    "        alpha_r = (x_target * self.att_r).sum(dim=-1) # DIM: [nodes, H, outC] x [H, outC] => [nodes, H]\n",
    "\n",
    "        #  Start propagating messages (runs message and aggregate)\n",
    "        out = self.propagate(edge_index, x=(x_source, x_target), alpha=(alpha_l, alpha_r),size=size) # DIM: [nodes, H, outC]\n",
    "        out = out.view(-1, self.heads * self.out_channels) # DIM: [nodes, H * outC]\n",
    "\n",
    "        return out\n",
    "\n",
    "    def message(self, x_j, alpha_j, alpha_i, index, ptr, size_i):\n",
    "        # Calculate attention for edge pairs\n",
    "        attention = F.leaky_relu((alpha_j + alpha_i), self.negative_slope) # EQ(1) DIM: [Edges, H]\n",
    "        attention = softmax(attention, index, ptr, size_i) # EQ(2) DIM: [Edges, H] | This softmax only calculates it over all neighbourhood nodes\n",
    "        attention = F.dropout(attention, p=self.dropout, training=self.training) # DIM: [Edges, H]\n",
    "\n",
    "        # Multiple attention with node features for all edges\n",
    "        out = x_j * attention.unsqueeze(-1)  # EQ(3.1) [Edges, H, outC] x [Edges, H] = [Edges, H, outC];\n",
    "\n",
    "        return out\n",
    "\n",
    "    def aggregate(self, inputs, index, dim_size = None):\n",
    "        # EQ(3.2) For each node, aggregate messages for all neighbourhood nodes \n",
    "        out = torch_scatter.scatter(inputs, index, dim=self.node_dim, \n",
    "                                    dim_size=dim_size, reduce='sum') # inputs (from message) DIM: [Edges, H, outC] => DIM: [Nodes, H, outC]\n",
    "        return out\n"
   ]
  },
  {
   "cell_type": "code",
   "execution_count": null,
   "id": "25e0742b-a236-4abb-9254-bb55c4552f8e",
   "metadata": {},
   "outputs": [],
   "source": [
    "class myGATv2(MessagePassing):\n",
    "    def __init__(self, in_channels, out_channels, heads = 1,\n",
    "                 negative_slope = 0.2, dropout = 0., **kwargs):\n",
    "        super(myGATv2, self).__init__(node_dim=0, **kwargs)\n",
    "\n",
    "        self.in_channels = in_channels\n",
    "        self.out_channels = out_channels\n",
    "        self.heads = heads\n",
    "        self.negative_slope = negative_slope\n",
    "        self.dropout = dropout\n",
    "\n",
    "        self.lin_l = None\n",
    "        self.lin_r = None\n",
    "        self.att_l = None\n",
    "        self.att_r = None\n",
    "        self._alpha = None\n",
    "        # self.lin_l is the linear transformation that you apply to embeddings \n",
    "        # BEFORE message passing.\n",
    "        self.lin_l =  Linear(in_channels, heads*out_channels)\n",
    "        self.lin_r = self.lin_l\n",
    "\n",
    "        self.att = Parameter(torch.Tensor(1, heads, out_channels))\n",
    "        self.reset_parameters()\n",
    "\n",
    "    #initialize parameters with xavier uniform\n",
    "    def reset_parameters(self):\n",
    "        nn.init.xavier_uniform_(self.lin_l.weight)\n",
    "        nn.init.xavier_uniform_(self.lin_r.weight)\n",
    "        nn.init.xavier_uniform_(self.att)\n",
    "\n",
    "    def forward(self, x, edge_index, size = None):\n",
    "        \n",
    "        H, C = self.heads, self.out_channels # DIM：H, outC\n",
    "        #Linearly transform node feature matrix.\n",
    "        x_source = self.lin_l(x).view(-1,H,C) # DIM: [Nodex x In] [in x H * outC] => [nodes x H * outC] => [nodes, H, outC]\n",
    "        x_target = self.lin_r(x).view(-1,H,C) # DIM: [Nodex x In] [in x H * outC] => [nodes x H * outC] => [nodes, H, outC]\n",
    "        \n",
    "        #  Start propagating messages (runs message and aggregate)\n",
    "        out= self.propagate(edge_index, x=(x_source,x_target),size=size) # DIM: [nodes, H, outC]\n",
    "        out= out.view(-1, self.heads * self.out_channels)       # DIM: [nodes, H * outC]\n",
    "        alpha = self._alpha\n",
    "        self._alpha = None\n",
    "        return out\n",
    "\n",
    "    #Process a message passing\n",
    "    def message(self, x_j,x_i,  index, ptr, size_i):\n",
    "        #computation using previous equationss\n",
    "        x = x_i + x_j                               \n",
    "        x  = F.leaky_relu(x, self.negative_slope)   # See Equation above: Apply the non-linearty function\n",
    "        alpha = (x * self.att).sum(dim=-1)          # Apply attnention \"a\" layer after the non-linearity \n",
    "        alpha = softmax(alpha, index, ptr, size_i)  # This softmax only calculates it over all neighbourhood nodes\n",
    "        self._alpha = alpha\n",
    "        alpha= F.dropout(alpha,p=self.dropout,training=self.training)\n",
    "        # Multiple attention with node features for all edges\n",
    "        out= x_j*alpha.unsqueeze(-1)  \n",
    "\n",
    "        return out\n",
    "    #Aggregation of messages\n",
    "    def aggregate(self, inputs, index, dim_size = None):\n",
    "        out = torch_scatter.scatter(inputs, index, dim=self.node_dim, \n",
    "                                    dim_size=dim_size, reduce='sum')  \n",
    "        return out"
   ]
  },
  {
   "cell_type": "code",
   "execution_count": 3,
   "id": "f6e92bdc-7fcd-4a61-8dcb-f4bc8709b46b",
   "metadata": {},
   "outputs": [
    {
     "ename": "NameError",
     "evalue": "name 'torch' is not defined",
     "output_type": "error",
     "traceback": [
      "\u001b[1;31m---------------------------------------------------------------------------\u001b[0m",
      "\u001b[1;31mNameError\u001b[0m                                 Traceback (most recent call last)",
      "Cell \u001b[1;32mIn[3], line 1\u001b[0m\n\u001b[1;32m----> 1\u001b[0m \u001b[38;5;28;01mclass\u001b[39;00m \u001b[38;5;21;01mGATmodif\u001b[39;00m(\u001b[43mtorch\u001b[49m\u001b[38;5;241m.\u001b[39mnn\u001b[38;5;241m.\u001b[39mModule):\n\u001b[0;32m      2\u001b[0m     \u001b[38;5;28;01mdef\u001b[39;00m \u001b[38;5;21m__init__\u001b[39m(\u001b[38;5;28mself\u001b[39m,input_dim, hidden_dim, output_dim,args):\n\u001b[0;32m      3\u001b[0m         \u001b[38;5;28msuper\u001b[39m(GATmodif, \u001b[38;5;28mself\u001b[39m)\u001b[38;5;241m.\u001b[39m\u001b[38;5;21m__init__\u001b[39m()\n",
      "\u001b[1;31mNameError\u001b[0m: name 'torch' is not defined"
     ]
    }
   ],
   "source": [
    "class GATmodif(torch.nn.Module):\n",
    "    def __init__(self,input_dim, hidden_dim, output_dim,args):\n",
    "        super(GATmodif, self).__init__()\n",
    "        #use our gat message passing \n",
    "        self.conv1 = myGAT(input_dim, hidden_dim,heads=args['heads'])\n",
    "        self.conv2 = myGAT(args['heads']  *hidden_dim, hidden_dim,heads=args['heads']) \n",
    "\n",
    "        self.post_mp = nn.Sequential(\n",
    "            nn.Linear(args['heads'] * hidden_dim, hidden_dim), nn.Dropout(args['dropout'] ), \n",
    "            nn.Linear(hidden_dim, output_dim))\n",
    "        \n",
    "    def forward(self, data, adj=None):\n",
    "        x, edge_index = data.x, data.edge_index\n",
    "        # Layer 1\n",
    "        x = self.conv1(x, edge_index)\n",
    "        x = F.dropout(F.relu(x), p=args['dropout'], training=self.training)\n",
    "\n",
    "        # Layer 2\n",
    "        x = self.conv2(x, edge_index)\n",
    "        x = F.dropout(F.relu(x), p=args['dropout'], training=self.training)\n",
    "\n",
    "        # MLP output\n",
    "        x = self.post_mp(x)\n",
    "        return F.sigmoid(x)\n",
    "\n",
    "class GATv2modif(torch.nn.Module):\n",
    "    def __init__(self,input_dim, hidden_dim, output_dim,args):\n",
    "        super(GATv2modif, self).__init__()\n",
    "        #use our gat message passing \n",
    "        self.conv1 = myGATv2(input_dim, hidden_dim,heads=args['heads']) \n",
    "        self.conv2 = myGATv2(args['heads'] *hidden_dim, hidden_dim,heads=args['heads'])\n",
    "\n",
    "        self.post_mp = nn.Sequential(\n",
    "            nn.Linear(args['heads']  * hidden_dim, hidden_dim), nn.Dropout(args['dropout'] ), \n",
    "            nn.Linear(hidden_dim, output_dim))\n",
    "        \n",
    "    def forward(self, data, adj=None):\n",
    "        x, edge_index = data.x, data.edge_index\n",
    "        # Layer 1\n",
    "        x = self.conv1(x, edge_index)\n",
    "        x = F.dropout(F.relu(x), p=args['dropout'], training=self.training)\n",
    "\n",
    "        # Layer 2\n",
    "        x = self.conv2(x, edge_index)\n",
    "        x = F.dropout(F.relu(x), p=args['dropout'], training=self.training)\n",
    "\n",
    "        # MLP output\n",
    "        x = self.post_mp(x)\n",
    "        return F.sigmoid(x)\n",
    " "
   ]
  },
  {
   "cell_type": "code",
   "execution_count": 4,
   "id": "030a4f78-22d7-46ad-89b4-602c6d6b67ff",
   "metadata": {},
   "outputs": [
    {
     "ename": "NameError",
     "evalue": "name 'torch' is not defined",
     "output_type": "error",
     "traceback": [
      "\u001b[1;31m---------------------------------------------------------------------------\u001b[0m",
      "\u001b[1;31mNameError\u001b[0m                                 Traceback (most recent call last)",
      "Cell \u001b[1;32mIn[4], line 1\u001b[0m\n\u001b[1;32m----> 1\u001b[0m \u001b[38;5;28;01mclass\u001b[39;00m \u001b[38;5;21;01mGATmodif_3layer\u001b[39;00m(\u001b[43mtorch\u001b[49m\u001b[38;5;241m.\u001b[39mnn\u001b[38;5;241m.\u001b[39mModule):\n\u001b[0;32m      2\u001b[0m     \u001b[38;5;28;01mdef\u001b[39;00m \u001b[38;5;21m__init__\u001b[39m(\u001b[38;5;28mself\u001b[39m,input_dim, hidden_dim, output_dim, args):\n\u001b[0;32m      3\u001b[0m         \u001b[38;5;28msuper\u001b[39m(GATmodif_3layer, \u001b[38;5;28mself\u001b[39m)\u001b[38;5;241m.\u001b[39m\u001b[38;5;21m__init__\u001b[39m()\n",
      "\u001b[1;31mNameError\u001b[0m: name 'torch' is not defined"
     ]
    }
   ],
   "source": [
    "class GATmodif_3layer(torch.nn.Module):\n",
    "    def __init__(self,input_dim, hidden_dim, output_dim, args):\n",
    "        super(GATmodif_3layer, self).__init__()\n",
    "        #use our gat message passing \n",
    "        self.conv1 = myGAT(input_dim, hidden_dim,heads=args['heads'])\n",
    "        self.conv2 = myGAT(args['heads'] * hidden_dim, hidden_dim,heads=args['heads']) \n",
    "        self.conv3 = myGAT(args['heads'] * hidden_dim, hidden_dim,heads=args['heads']) \n",
    "        \n",
    "        self.post_mp = nn.Sequential(\n",
    "            nn.Linear(args['heads'] * hidden_dim, hidden_dim), nn.Dropout(args['dropout'] ), \n",
    "            nn.Linear(hidden_dim, output_dim))\n",
    "        \n",
    "    def forward(self, data, adj=None):\n",
    "        x, edge_index = data.x, data.edge_index\n",
    "        # Layer 1\n",
    "        x = self.conv1(x, edge_index)\n",
    "        x = F.dropout(F.relu(x), p=args['dropout'], training=self.training)\n",
    "\n",
    "        # Layer 2\n",
    "        x = self.conv2(x, edge_index)\n",
    "        x = F.dropout(F.relu(x), p=args['dropout'], training=self.training)\n",
    "        \n",
    "        # Layer 3\n",
    "        x = self.conv3(x, edge_index)\n",
    "        x = F.dropout(F.relu(x), p=args['dropout'], training=self.training)\n",
    "\n",
    "        # MLP output\n",
    "        x = self.post_mp(x)\n",
    "        return F.sigmoid(x)"
   ]
  },
  {
   "cell_type": "code",
   "execution_count": null,
   "id": "7327b843-cbce-4766-9b86-bbab49150f96",
   "metadata": {},
   "outputs": [],
   "source": []
  },
  {
   "cell_type": "markdown",
   "id": "adbdc304-f9e0-4db2-99b8-3439cb833b33",
   "metadata": {},
   "source": [
    "## Training Utils"
   ]
  },
  {
   "cell_type": "code",
   "execution_count": 31,
   "id": "25dfbe1e-dca5-44a6-b9d3-ccb2ba38e3c8",
   "metadata": {},
   "outputs": [],
   "source": [
    "def train(model, optimizer, criterion, train_loader, epochs):\n",
    "    for epoch in range(1, epochs+1):\n",
    "        total_loss = 0\n",
    "        total = 0\n",
    "        model.train()\n",
    "        for batch in train_loader:\n",
    "            batch = batch.to(device)\n",
    "            optimizer.zero_grad()\n",
    "            out = model(batch)\n",
    "            out = out.reshape((batch.x.shape[0]))\n",
    "            \n",
    "            y = batch.y[:batch.batch_size]\n",
    "            out = out[:batch.batch_size]\n",
    "            \n",
    "            loss = criterion(out, y)\n",
    "            loss.backward()\n",
    "            \n",
    "            total += y.size(0)\n",
    "            total_loss += loss.item() * y.size(0)   # always use loss.item() * y.size(0)\n",
    "            \n",
    "            optimizer.step()\n",
    "        average_loss = total_loss / total\n",
    "        print(f'Epoch: {epoch:03d}, Loss: {average_loss:.4f}')"
   ]
  },
  {
   "cell_type": "code",
   "execution_count": 32,
   "id": "f90bd1b1-a2c4-4005-8a52-6cd4b8f0c52a",
   "metadata": {
    "editable": true,
    "slideshow": {
     "slide_type": ""
    },
    "tags": []
   },
   "outputs": [],
   "source": [
    "def evaluate(model, val_loader):\n",
    "    model.eval()\n",
    "    y_true = []\n",
    "    y_pred = []\n",
    "\n",
    "    with torch.no_grad():\n",
    "        for batch in val_loader:\n",
    "            batch = batch.to(device)\n",
    "            out = model(batch)\n",
    "            y_act = batch.y[:batch.batch_size] \n",
    "            out = out[:batch.batch_size]  \n",
    "            y_act = y_act.detach().cpu().numpy() \n",
    "            out = out.detach().cpu().numpy()\n",
    "            out = np.where(out >= 0.5, 1, 0) # choose this value wisely\n",
    "            y_true.extend(y_act)\n",
    "            y_pred.extend(out)\n",
    "    precision = precision_score(y_true, y_pred)\n",
    "    recall = recall_score(y_true, y_pred)\n",
    "    accuracy = accuracy_score(y_true, y_pred)  \n",
    "    print(\"Total Accuracy: \", accuracy)\n",
    "    print(\"Total Precision: \", precision)\n",
    "    print(\"Total Recall: \", recall)"
   ]
  },
  {
   "cell_type": "markdown",
   "id": "8d4aaba6-1e28-46a3-b09b-60c5687fc167",
   "metadata": {},
   "source": [
    "## Running thy models"
   ]
  },
  {
   "cell_type": "markdown",
   "id": "7c1007e5-2bec-4f52-80ab-5027afa9f45d",
   "metadata": {
    "jp-MarkdownHeadingCollapsed": true
   },
   "source": [
    "### Preparing the loader"
   ]
  },
  {
   "cell_type": "code",
   "execution_count": 33,
   "id": "5b9ec739-3f47-4786-a416-9dc7e509ec32",
   "metadata": {},
   "outputs": [],
   "source": [
    "neighbors_arr = [10, 8]\n",
    "batch_size = 10"
   ]
  },
  {
   "cell_type": "code",
   "execution_count": 36,
   "id": "10017176-e672-4073-a965-18b6d189d6ff",
   "metadata": {},
   "outputs": [],
   "source": [
    "train_loader = get_neighbor_loader(data_train, data_train.train_idx, neighbors_arr, batch_size)\n",
    "val_loader = get_neighbor_loader(data_train, data_train.valid_idx, neighbors_arr, batch_size)\n",
    "test_loader = get_neighbor_loader(data_train, data_train.test_idx, neighbors_arr, batch_size)"
   ]
  },
  {
   "cell_type": "markdown",
   "id": "83da9587-c188-4b1d-bc0b-627d44f21a9e",
   "metadata": {
    "jp-MarkdownHeadingCollapsed": true
   },
   "source": [
    "### Preparing the model"
   ]
  },
  {
   "cell_type": "code",
   "execution_count": 39,
   "id": "8c802a86-db65-494d-8a82-ef72f822b0c0",
   "metadata": {},
   "outputs": [],
   "source": [
    "gcnModel = Net(64).to(device)\n",
    "optimizer = torch.optim.Adam(gcnModel.parameters(), lr= 0.01)\n",
    "criterion = torch.nn.BCELoss()"
   ]
  },
  {
   "cell_type": "markdown",
   "id": "ff94fc8b-50f6-4565-982c-c9b444b3da98",
   "metadata": {
    "jp-MarkdownHeadingCollapsed": true
   },
   "source": [
    "### Training the model"
   ]
  },
  {
   "cell_type": "code",
   "execution_count": 40,
   "id": "9375cb46-3ffb-4c77-8d0d-d560a54ea75c",
   "metadata": {},
   "outputs": [
    {
     "name": "stdout",
     "output_type": "stream",
     "text": [
      "Epoch: 001, Loss: 0.2170\n",
      "Epoch: 002, Loss: 0.1911\n",
      "Epoch: 003, Loss: 0.1876\n",
      "Epoch: 004, Loss: 0.1817\n",
      "Epoch: 005, Loss: 0.1772\n",
      "Epoch: 006, Loss: 0.1736\n",
      "Epoch: 007, Loss: 0.1703\n",
      "Epoch: 008, Loss: 0.1714\n",
      "Epoch: 009, Loss: 0.1674\n",
      "Epoch: 010, Loss: 0.1708\n",
      "Epoch: 011, Loss: 0.1674\n",
      "Epoch: 012, Loss: 0.1660\n",
      "Epoch: 013, Loss: 0.1695\n",
      "Epoch: 014, Loss: 0.1677\n",
      "Epoch: 015, Loss: 0.1675\n",
      "Epoch: 016, Loss: 0.1679\n",
      "Epoch: 017, Loss: 0.1651\n",
      "Epoch: 018, Loss: 0.1627\n",
      "Epoch: 019, Loss: 0.1653\n",
      "Epoch: 020, Loss: 0.1645\n"
     ]
    }
   ],
   "source": [
    "train(gcnModel, optimizer, criterion, train_loader, epochs=20)"
   ]
  },
  {
   "cell_type": "code",
   "execution_count": 41,
   "id": "a3c9a124-c7f6-4eda-9816-f4188a4ead29",
   "metadata": {
    "editable": true,
    "slideshow": {
     "slide_type": ""
    },
    "tags": []
   },
   "outputs": [
    {
     "name": "stdout",
     "output_type": "stream",
     "text": [
      "Total Accuracy:  0.9523264137437366\n",
      "Total Precision:  0.837890625\n",
      "Total Recall:  0.6318114874815906\n"
     ]
    }
   ],
   "source": [
    "evaluate(gcnModel, val_loader)"
   ]
  },
  {
   "cell_type": "markdown",
   "id": "8fea1294-7bbe-4e7c-8f1b-32d8ec2168f1",
   "metadata": {},
   "source": [
    "## Elastic Weight Consolidation"
   ]
  },
  {
   "cell_type": "markdown",
   "id": "be1dd7cd-f3c7-49db-93d4-271f875104d9",
   "metadata": {},
   "source": [
    "### Creating task train indices"
   ]
  },
  {
   "cell_type": "code",
   "execution_count": 117,
   "id": "174c1905-1561-4ebb-9a1f-6c172c56b8b7",
   "metadata": {},
   "outputs": [
    {
     "name": "stdout",
     "output_type": "stream",
     "text": [
      "[1, 3, 24, 25, 26, 30, 33, 41, 54, 56]\n",
      "[0, 2, 4, 5, 6, 7, 8, 9, 10, 11]\n",
      "[ 56262 115683   2524 135476  29704 189864    672  78365 166607 103256]\n"
     ]
    }
   ],
   "source": [
    "print(task1_indices[:10])\n",
    "print(task2_indices[:10])\n",
    "\n",
    "print(data_train.train_idx[:10])"
   ]
  },
  {
   "cell_type": "code",
   "execution_count": 123,
   "id": "ec29be52-add0-437e-a98e-f217dd9f741f",
   "metadata": {},
   "outputs": [],
   "source": [
    "def convert_tasks_indices(task_indices, full_idx):\n",
    "    # Convert lists to sets\n",
    "    set1 = set(task_indices)\n",
    "    set2 = set(full_idx)\n",
    "    \n",
    "    # Find common elements\n",
    "    common_indices = set1.intersection(set2)\n",
    "    common_indices = list(common_indices)\n",
    "    \n",
    "    print(len(common_indices))\n",
    "\n",
    "    return common_indices"
   ]
  },
  {
   "cell_type": "code",
   "execution_count": null,
   "id": "3b5de05e-9978-4430-aa6c-b57d7cde2dcc",
   "metadata": {},
   "outputs": [],
   "source": []
  },
  {
   "cell_type": "code",
   "execution_count": 128,
   "id": "c1294812-f622-41e1-a1d0-022cace655e0",
   "metadata": {},
   "outputs": [
    {
     "name": "stdout",
     "output_type": "stream",
     "text": [
      "20578\n",
      "19001\n"
     ]
    }
   ],
   "source": [
    "# getting train indices for tasks\n",
    "task1_train_indices = convert_tasks_indices(task1_indices, data_train.train_idx) \n",
    "task2_train_indices = convert_tasks_indices(task2_indices, data_train.train_idx) "
   ]
  },
  {
   "cell_type": "code",
   "execution_count": 136,
   "id": "d01b5d75-f882-40f6-ab62-78a1e7acce17",
   "metadata": {},
   "outputs": [],
   "source": [
    "all_train_indices = []\n",
    "all_train_indices.append(task1_train_indices)\n",
    "all_train_indices.append(task2_train_indices)"
   ]
  },
  {
   "cell_type": "code",
   "execution_count": 205,
   "id": "00561cd8-edf5-4f8f-9a4b-6902b452e6ba",
   "metadata": {},
   "outputs": [
    {
     "name": "stdout",
     "output_type": "stream",
     "text": [
      "3622\n",
      "3363\n"
     ]
    }
   ],
   "source": [
    "# getting test indices for tasks\n",
    "task1_test_indices = convert_tasks_indices(task1_indices, data_train.valid_idx) \n",
    "task2_test_indices = convert_tasks_indices(task2_indices, data_train.valid_idx) "
   ]
  },
  {
   "cell_type": "code",
   "execution_count": 132,
   "id": "02b213e7-0042-4f8a-a584-cb6ef3bed0b3",
   "metadata": {},
   "outputs": [],
   "source": [
    "# getting loaders\n",
    "neighbors_arr = [10, 8]\n",
    "batch_size = 10"
   ]
  },
  {
   "cell_type": "code",
   "execution_count": 133,
   "id": "f92f23e6-bc23-4335-aea8-ebe405469f09",
   "metadata": {},
   "outputs": [],
   "source": [
    "train_task1_loader = get_neighbor_loader(data_train, task1_train_indices, neighbors_arr, batch_size)\n",
    "test_task1_loader = get_neighbor_loader(data_train, task1_test_indices, neighbors_arr, batch_size)"
   ]
  },
  {
   "cell_type": "code",
   "execution_count": 134,
   "id": "7a5e4d7a-a308-449b-80c6-118e88dbc771",
   "metadata": {},
   "outputs": [],
   "source": [
    "train_task2_loader = get_neighbor_loader(data_train, task2_train_indices, neighbors_arr, batch_size)\n",
    "test_task2_loader = get_neighbor_loader(data_train, task2_test_indices, neighbors_arr, batch_size)"
   ]
  },
  {
   "cell_type": "code",
   "execution_count": 161,
   "id": "8fa470e9-6957-4d95-a851-4bf22dfc5a1d",
   "metadata": {},
   "outputs": [],
   "source": [
    "train_loader_arr = []\n",
    "test_loader_arr = []"
   ]
  },
  {
   "cell_type": "code",
   "execution_count": 162,
   "id": "8803d468-899c-4d35-9829-291e40624898",
   "metadata": {},
   "outputs": [],
   "source": [
    "train_loader_arr.append(train_task1_loader)\n",
    "train_loader_arr.append(train_task2_loader)"
   ]
  },
  {
   "cell_type": "code",
   "execution_count": 163,
   "id": "3c5cafdf-00b3-42e9-a86d-cdd065b67926",
   "metadata": {},
   "outputs": [],
   "source": [
    "test_loader_arr.append(test_task1_loader)\n",
    "test_loader_arr.append(test_task2_loader)"
   ]
  },
  {
   "cell_type": "markdown",
   "id": "e448c14e-1fa4-4cd0-aaf6-c081174179b7",
   "metadata": {},
   "source": [
    "### Normal train"
   ]
  },
  {
   "cell_type": "code",
   "execution_count": 208,
   "id": "ac34bd83-f310-47ad-a1dc-5ab660009936",
   "metadata": {},
   "outputs": [],
   "source": [
    "def normal_train_ewc(model, optimizer, criterion, num_tasks, train_loader_arr, test_loader_arr, epochs, weight=True):\n",
    "    model.train()\n",
    "    loss, acc = {}, {}\n",
    "    for task in range(num_tasks):\n",
    "        loss[task] = []\n",
    "        acc[task] = []\n",
    "        for _ in tqdm(range(epochs)):\n",
    "            loss[task].append(normal_train(model, criterion, optimizer, train_loader_arr[task]))\n",
    "            # testing for previous tasks as we progress\n",
    "            for sub_task in range(task + 1):\n",
    "                acc[sub_task].append(test(model, test_loader_arr[sub_task]))\n",
    "        if task == 0 and weight:\n",
    "            weight = model.state_dict()\n",
    "\n",
    "    return loss, acc, weight"
   ]
  },
  {
   "cell_type": "code",
   "execution_count": 209,
   "id": "af80cebf-a228-4cfe-8f00-e99db37d701b",
   "metadata": {},
   "outputs": [],
   "source": [
    "def test(model, test_loader):\n",
    "    model.eval()\n",
    "    y_true = []\n",
    "    y_pred = []\n",
    "    \n",
    "    with torch.no_grad():\n",
    "        for batch in val_loader:\n",
    "            batch = batch.to(device)\n",
    "            out = model(batch)\n",
    "            y_act = batch.y[:batch.batch_size] \n",
    "            out = out[:batch.batch_size]  \n",
    "            y_act = y_act.detach().cpu().numpy() \n",
    "            out = out.detach().cpu().numpy()\n",
    "            out = np.where(out >= 0.5, 1, 0) # choose this value wisely\n",
    "            y_true.extend(y_act)\n",
    "            y_pred.extend(out)\n",
    "    accuracy = accuracy_score(y_true, y_pred)  \n",
    "    return accuracy"
   ]
  },
  {
   "cell_type": "code",
   "execution_count": 268,
   "id": "e2cdfe76-b392-454c-bc59-37a19ac11e1d",
   "metadata": {},
   "outputs": [],
   "source": [
    "#parameters for EWC\n",
    "sample_size = 500\n",
    "epochs = 5\n",
    "num_tasks = 2"
   ]
  },
  {
   "cell_type": "code",
   "execution_count": 269,
   "id": "b9b17647-fe1e-4f05-96f4-bd22b5b03a7c",
   "metadata": {},
   "outputs": [],
   "source": [
    "gcnModel = Net(64).to(device)\n",
    "optimizer = torch.optim.Adam(gcnModel.parameters(), lr= 0.01)\n",
    "criterion = torch.nn.BCELoss()"
   ]
  },
  {
   "cell_type": "code",
   "execution_count": 270,
   "id": "59da3724-e091-40d9-b826-f91865aef826",
   "metadata": {},
   "outputs": [],
   "source": [
    "import utils\n",
    "from utils import EWC, ewc_train, normal_train"
   ]
  },
  {
   "cell_type": "code",
   "execution_count": 271,
   "id": "d52cf55e-e9ca-46c4-86e3-bfc58ac46f99",
   "metadata": {},
   "outputs": [],
   "source": [
    "import importlib\n",
    "import utils\n",
    "importlib.reload(utils)\n",
    "from utils import EWC, ewc_train, normal_train"
   ]
  },
  {
   "cell_type": "code",
   "execution_count": 272,
   "id": "c1737a09-2860-4c1d-a147-07173e4a02b0",
   "metadata": {},
   "outputs": [
    {
     "name": "stderr",
     "output_type": "stream",
     "text": [
      "100%|████████████████████████████████████████████████████████████████████████████████████████████████████████████████████████| 5/5 [01:05<00:00, 13.20s/it]\n",
      "100%|████████████████████████████████████████████████████████████████████████████████████████████████████████████████████████| 5/5 [01:14<00:00, 14.99s/it]\n"
     ]
    }
   ],
   "source": [
    "loss, acc, weight = normal_train_ewc(gcnModel, optimizer, criterion, num_tasks, train_loader_arr, test_loader_arr, epochs)"
   ]
  },
  {
   "cell_type": "code",
   "execution_count": 215,
   "id": "972c2688-e98d-4f40-a289-aa3c6c1b4099",
   "metadata": {},
   "outputs": [],
   "source": [
    "def loss_plot(x):\n",
    "    for t, v in x.items():\n",
    "        plt.plot(list(range(t * epochs, (t + 1) * epochs)), v)\n",
    "    # possibility of an outlier in data reducing the y_lim to 3\n",
    "\n",
    "def accuracy_plot(x):\n",
    "    for t, v in x.items():\n",
    "        plt.plot(list(range(t * epochs, num_tasks * epochs)), v)  "
   ]
  },
  {
   "cell_type": "code",
   "execution_count": 216,
   "id": "7e244917-f329-401c-949e-8be300f804f0",
   "metadata": {},
   "outputs": [
    {
     "data": {
      "image/png": "[encoded data removed]",
      "text/plain": [
       "<Figure size 640x480 with 1 Axes>"
      ]
     },
     "metadata": {},
     "output_type": "display_data"
    }
   ],
   "source": [
    "loss_plot(loss)"
   ]
  },
  {
   "cell_type": "code",
   "execution_count": 217,
   "id": "69a207a1-6aad-458d-9c8c-708455a98232",
   "metadata": {},
   "outputs": [
    {
     "data": {
      "image/png": "[encoded data removed]",
      "text/plain": [
       "<Figure size 640x480 with 1 Axes>"
      ]
     },
     "metadata": {},
     "output_type": "display_data"
    }
   ],
   "source": [
    "accuracy_plot(acc)"
   ]
  },
  {
   "cell_type": "code",
   "execution_count": null,
   "id": "3065df6b-6616-4125-8818-bc605f3f9b3e",
   "metadata": {},
   "outputs": [],
   "source": [
    "import importlib\n",
    "import utils\n",
    "importlib.reload(utils)\n",
    "from utils import EWC, ewc_train, normal_train"
   ]
  },
  {
   "cell_type": "code",
   "execution_count": 286,
   "id": "bbcc7d11-c97c-4d3f-bb08-0ca0d5f581b9",
   "metadata": {},
   "outputs": [],
   "source": [
    "def ewc_process(model, optimizer, criterion, num_tasks, train_loader_arr, test_loader_arr, epochs, importance, all_train_indices, weight=None):\n",
    "\n",
    "    loss, acc, ewc = {}, {}, {}\n",
    "    # getting loaders\n",
    "    neighbors_arr = [10, 8]\n",
    "    batch_size = 10\n",
    "    \n",
    "    for task in range(num_tasks):\n",
    "        loss[task] = []\n",
    "        acc[task] = []\n",
    "\n",
    "        if task == 0:\n",
    "            if weight:\n",
    "                model.load_state_dict(weight)\n",
    "            else:\n",
    "                for _ in tqdm(range(epochs)):\n",
    "                    model.train()\n",
    "                    loss[task].append(normal_train(model, criterion, optimizer, train_loader_arr[task]))\n",
    "                    acc[task].append(test(model, test_loader_arr[task]))\n",
    "        else:\n",
    "            # need to rewrite this using masking\n",
    "            old_tasks = []\n",
    "            for sub_task in range(task):\n",
    "                # sampling sample_size from old tasks\n",
    "                old_tasks.extend(random.sample(all_train_indices[sub_task], sample_size))\n",
    "            # again select 200 randonly\n",
    "            old_tasks = random.sample(old_tasks, k=sample_size)\n",
    "            # get dataloader for oldtask\n",
    "            old_tasks_loader = get_neighbor_loader(data_train, old_tasks, neighbors_arr, batch_size)        \n",
    "            for _ in tqdm(range(epochs)):\n",
    "                # start EWC training\n",
    "                loss[task].append(ewc_train(model, criterion, optimizer, train_loader_arr[task], EWC(model, old_tasks_loader, criterion,sample_size), importance))\n",
    "                for sub_task in range(task + 1):\n",
    "                    acc[sub_task].append(test(model, test_loader_arr[sub_task]))\n",
    "\n",
    "    return loss, acc"
   ]
  },
  {
   "cell_type": "code",
   "execution_count": 287,
   "id": "5e67e399-56ac-400a-9421-37cdc618c175",
   "metadata": {},
   "outputs": [],
   "source": [
    "import importlib\n",
    "import utils\n",
    "importlib.reload(utils)\n",
    "from utils import EWC, ewc_train, normal_train"
   ]
  },
  {
   "cell_type": "code",
   "execution_count": 288,
   "id": "36880dd0-5f50-4b4c-a3b5-3a1b49e51ccc",
   "metadata": {},
   "outputs": [],
   "source": [
    "gcnModel = Net(64).to(device)\n",
    "optimizer = torch.optim.Adam(gcnModel.parameters(), lr= 0.01)\n",
    "criterion = torch.nn.BCELoss()"
   ]
  },
  {
   "cell_type": "code",
   "execution_count": 289,
   "id": "130148e0-bd3d-4d61-806a-32e75cd7c234",
   "metadata": {},
   "outputs": [],
   "source": [
    "#parameters for EWC\n",
    "importance = 1000\n",
    "sample_size = 500\n",
    "num_tasks = 2\n",
    "epochs = 50"
   ]
  },
  {
   "cell_type": "code",
   "execution_count": 290,
   "id": "4a953bad-018a-4cfa-bc51-5418fa1b2d23",
   "metadata": {},
   "outputs": [
    {
     "name": "stderr",
     "output_type": "stream",
     "text": [
      "100%|██████████████████████████████████████████████████████████████████████████████████████████████████████████████████████| 50/50 [11:33<00:00, 13.88s/it]\n",
      "100%|██████████████████████████████████████████████████████████████████████████████████████████████████████████████████████| 50/50 [15:28<00:00, 18.57s/it]\n"
     ]
    }
   ],
   "source": [
    "loss_ewc, acc_ewc = ewc_process(gcnModel, optimizer, criterion, num_tasks, train_loader_arr, test_loader_arr, epochs, importance, all_train_indices, weight=None)"
   ]
  },
  {
   "cell_type": "code",
   "execution_count": 295,
   "id": "3c00815b-0cc2-40a8-9548-11786fd902bf",
   "metadata": {},
   "outputs": [],
   "source": [
    "#loss_ewc"
   ]
  },
  {
   "cell_type": "code",
   "execution_count": 292,
   "id": "f0f48484-3e1c-4f41-96e3-b403a85ea77e",
   "metadata": {},
   "outputs": [],
   "source": [
    "def loss_plot(x):\n",
    "    for t, v in x.items():\n",
    "        plt.plot(list(range(t * epochs, (t + 1) * epochs)), v)\n",
    "    # possibility of an outlier in data reducing the y_lim to 3\n",
    "\n",
    "def accuracy_plot(x):\n",
    "    for t, v in x.items():\n",
    "        plt.plot(list(range(t * epochs, num_tasks * epochs)), v)  "
   ]
  },
  {
   "cell_type": "code",
   "execution_count": 293,
   "id": "beb2ea3f-acaa-4b08-a8b6-6ed2d5e00569",
   "metadata": {},
   "outputs": [
    {
     "data": {
      "image/png": "[encoded data removed]",
      "text/plain": [
       "<Figure size 640x480 with 1 Axes>"
      ]
     },
     "metadata": {},
     "output_type": "display_data"
    }
   ],
   "source": [
    "loss_plot(loss_ewc)"
   ]
  },
  {
   "cell_type": "code",
   "execution_count": 294,
   "id": "6307b357-f5db-417d-998f-fddf4e9272aa",
   "metadata": {},
   "outputs": [
    {
     "data": {
      "image/png": "[encoded data removed]",
      "text/plain": [
       "<Figure size 640x480 with 1 Axes>"
      ]
     },
     "metadata": {},
     "output_type": "display_data"
    }
   ],
   "source": [
    "accuracy_plot(acc_ewc)"
   ]
  },
  {
   "cell_type": "code",
   "execution_count": null,
   "id": "0aa5e0a0-5b19-46ef-b161-736c01d4e47e",
   "metadata": {},
   "outputs": [],
   "source": []
  },
  {
   "cell_type": "code",
   "execution_count": null,
   "id": "6b96578a-a683-4e1a-ad4b-e4bec5ac4fee",
   "metadata": {},
   "outputs": [],
   "source": []
  },
  {
   "cell_type": "code",
   "execution_count": null,
   "id": "0a13beaf-d79c-4df3-a2f6-0dc4c7a2dc41",
   "metadata": {},
   "outputs": [],
   "source": []
  },
  {
   "cell_type": "code",
   "execution_count": null,
   "id": "acefa752-5ed5-491a-828c-5eccf9d9ac8f",
   "metadata": {},
   "outputs": [],
   "source": []
  },
  {
   "cell_type": "code",
   "execution_count": null,
   "id": "2542c78c-b33f-430a-b182-a9e9a97ba566",
   "metadata": {},
   "outputs": [],
   "source": []
  },
  {
   "cell_type": "code",
   "execution_count": 107,
   "id": "0f4b701e-529a-4e94-baec-e62f628d30fb",
   "metadata": {},
   "outputs": [],
   "source": []
  },
  {
   "cell_type": "code",
   "execution_count": 114,
   "id": "5e33a65b-2c59-455d-99da-826c25f04bac",
   "metadata": {},
   "outputs": [],
   "source": []
  },
  {
   "cell_type": "code",
   "execution_count": null,
   "id": "1cf26181-a412-41a2-aac0-2e7ff60a4f47",
   "metadata": {},
   "outputs": [],
   "source": []
  },
  {
   "cell_type": "code",
   "execution_count": null,
   "id": "780aacc1-cb24-42e4-8d4b-e7c182c7551c",
   "metadata": {},
   "outputs": [],
   "source": []
  },
  {
   "cell_type": "code",
   "execution_count": null,
   "id": "5cca99b7-5f64-40de-92e4-69ca0004a9e3",
   "metadata": {},
   "outputs": [],
   "source": []
  },
  {
   "cell_type": "code",
   "execution_count": null,
   "id": "53cc3185-017f-41c5-8b8f-10bbee471c9b",
   "metadata": {},
   "outputs": [],
   "source": []
  },
  {
   "cell_type": "code",
   "execution_count": null,
   "id": "97c0f53c-b045-4861-b33e-91b1a0ed729f",
   "metadata": {},
   "outputs": [],
   "source": []
  },
  {
   "cell_type": "code",
   "execution_count": null,
   "id": "79b0807d-9e9d-4d03-aba7-0c5431d1b595",
   "metadata": {},
   "outputs": [],
   "source": []
  },
  {
   "cell_type": "code",
   "execution_count": null,
   "id": "42aacaa3-5d92-45a1-97cb-b9d570df8eb2",
   "metadata": {},
   "outputs": [],
   "source": []
  },
  {
   "cell_type": "code",
   "execution_count": null,
   "id": "43a677b1-3fa1-45aa-a912-552f81d95dc5",
   "metadata": {},
   "outputs": [],
   "source": []
  },
  {
   "cell_type": "code",
   "execution_count": null,
   "id": "ea147efb-2ae3-4a5d-a3d9-ac2810cb53a9",
   "metadata": {},
   "outputs": [],
   "source": []
  },
  {
   "cell_type": "code",
   "execution_count": null,
   "id": "4eb653c2-13bb-4c35-9cc7-98b80f0582e4",
   "metadata": {},
   "outputs": [],
   "source": []
  },
  {
   "cell_type": "code",
   "execution_count": null,
   "id": "d06407d4-ae8a-45c7-9e24-ddad3650c548",
   "metadata": {},
   "outputs": [],
   "source": []
  },
  {
   "cell_type": "code",
   "execution_count": null,
   "id": "83f3bba2-26b2-4607-b6c9-d3ef74716c7d",
   "metadata": {},
   "outputs": [],
   "source": []
  },
  {
   "cell_type": "code",
   "execution_count": null,
   "id": "98d2be13-ae00-45f2-8ad3-405bd53140d5",
   "metadata": {},
   "outputs": [],
   "source": []
  },
  {
   "cell_type": "markdown",
   "id": "6d4acda9-d585-4ff1-a4cf-7cab59ec6b3b",
   "metadata": {
    "editable": true,
    "jp-MarkdownHeadingCollapsed": true,
    "slideshow": {
     "slide_type": ""
    },
    "tags": []
   },
   "source": [
    "## Applying Cros validation"
   ]
  },
  {
   "cell_type": "code",
   "execution_count": null,
   "id": "2ac9604e-bee9-4ff4-93c9-325928fa9053",
   "metadata": {},
   "outputs": [],
   "source": [
    "def cross_val_loader(data_train, train_indx, val_indx, batch_size, neighbors_arr):\n",
    "\n",
    "    # train loader\n",
    "    cross_val_train_loader=NeighborLoader(\n",
    "        data_train,\n",
    "        input_nodes=train_indx,\n",
    "        num_neighbors=neighbors_arr, #around 70 nodes at a time -> 10 * 5 = 50 and 5 * 4 = 20 -> 50 + 20 = 70\n",
    "        batch_size=batch_size,\n",
    "        replace=False,\n",
    "        shuffle=True\n",
    "    )\n",
    "\n",
    "    # test loader\n",
    "    cross_val_test_loader=NeighborLoader(\n",
    "        data_train,\n",
    "        input_nodes=val_indx,\n",
    "        num_neighbors=neighbors_arr,  \n",
    "        batch_size=batch_size,\n",
    "        replace=False,\n",
    "        shuffle=True\n",
    "    )\n",
    "\n",
    "    return cross_val_train_loader, cross_val_test_loader"
   ]
  },
  {
   "cell_type": "code",
   "execution_count": 37,
   "id": "5d0e8b87-4a7d-41b7-980a-7e685dc2e3ac",
   "metadata": {},
   "outputs": [],
   "source": [
    "def kfold_cross_validation(data_train, k, cross_val_train_indx):\n",
    "    \n",
    "    # simple kfold-cross validation\n",
    "    # could not use stratified k-fold-cross validation\n",
    "    n_splits = 5  # Number of folds\n",
    "    kf = KFold(n_splits=n_splits)\n",
    "    \n",
    "    # run cross val on this indices array \n",
    "    for fold, (train_indx, val_indx) in enumerate(kf.split(cross_val_train_indx)):\n",
    "        \n",
    "        # reverse the train_indx and val_indx to binary array of size len(data_train.x)\n",
    "        recreated_train_mask = torch.zeros(data_train.num_nodes)\n",
    "        recreated_val_mask = torch.zeros(data_train.num_nodes)\n",
    "        for i in train_indx: recreated_train_mask[i] = True\n",
    "        for i in val_indx: recreated_val_mask[i] = True\n",
    "            \n",
    "        # create new train and test loaders now\n",
    "        batch_size = 5\n",
    "        neighbors_arr = [5, 2]\n",
    "        cross_val_train_loader, cross_val_test_loader = cross_val_loader(data_train, recreated_train_mask, recreated_val_mask, batch_size, neighbors_arr)\n",
    "\n",
    "        # create GNN model\n",
    "        gcnModel = Net(64).to(device)\n",
    "        optimizer = torch.optim.Adam(gcnModel.parameters(), lr= 0.01)\n",
    "        criterion = torch.nn.BCELoss()\n",
    "        #writer = SummaryWriter()\n",
    "        \n",
    "        # trainin the GNN model\n",
    "        print(\"Fold\", fold, \" training\")\n",
    "        train(gcnModel, optimizer, criterion, cross_val_train_loader, epochs=10)\n",
    "        writer.close()\n",
    "\n",
    "        # evaluating the GNN model\n",
    "        print(\"Fold\", fold, \" testing\")\n",
    "        evaluate(gcnModel, cross_val_test_loader)"
   ]
  },
  {
   "cell_type": "markdown",
   "id": "9c55aff8-170a-4ba9-aef8-388629b8f43c",
   "metadata": {
    "jp-MarkdownHeadingCollapsed": true
   },
   "source": [
    "### Training using Cross validation"
   ]
  },
  {
   "cell_type": "code",
   "execution_count": 4,
   "id": "85fe2da2-ef2c-4964-9387-ab48483a354e",
   "metadata": {},
   "outputs": [],
   "source": [
    "# cross_val_train_indx = data_train.train_idx"
   ]
  },
  {
   "cell_type": "code",
   "execution_count": 1,
   "id": "6d6f9920-ae5d-47c1-98bb-aaf9f144be0d",
   "metadata": {},
   "outputs": [],
   "source": [
    "# kfold_cross_validation(data_train, k=5, cross_val_train_indx=cross_val_train_indx)"
   ]
  },
  {
   "cell_type": "code",
   "execution_count": 3,
   "id": "18a6729e-23fe-47da-8a98-5b30584b1832",
   "metadata": {},
   "outputs": [],
   "source": [
    "# CUDA error: device-side assert triggered\n",
    "# CUDA kernel errors might be asynchronously reported at some other API call, so the stacktrace below might be incorrect.\n",
    "# For debugging consider passing CUDA_LAUNCH_BLOCKING=1.\n",
    "# Compile with `TORCH_USE_CUDA_DSA` to enable device-side assertions."
   ]
  },
  {
   "cell_type": "markdown",
   "id": "96577091-7e36-4286-97e0-bb6ff3a90ac6",
   "metadata": {
    "jp-MarkdownHeadingCollapsed": true
   },
   "source": [
    "## Hyperparameter tuning"
   ]
  },
  {
   "cell_type": "markdown",
   "id": "0351791d-2310-45ab-82fa-52765b475d32",
   "metadata": {
    "jp-MarkdownHeadingCollapsed": true
   },
   "source": [
    "### Bayesian search"
   ]
  },
  {
   "cell_type": "code",
   "execution_count": null,
   "id": "2025ada3-7bc2-4fd3-9525-1b7354c8b47f",
   "metadata": {},
   "outputs": [],
   "source": [
    "from skopt import BayesSearchCV"
   ]
  },
  {
   "cell_type": "code",
   "execution_count": null,
   "id": "d208bdeb-80d1-4fc9-9524-4870cd718063",
   "metadata": {},
   "outputs": [],
   "source": [
    "from skopt import BayesSearchCV"
   ]
  },
  {
   "cell_type": "code",
   "execution_count": null,
   "id": "9442c099-3a43-4e82-a714-8603cbd32737",
   "metadata": {},
   "outputs": [],
   "source": [
    "n_iter = 70"
   ]
  },
  {
   "cell_type": "code",
   "execution_count": null,
   "id": "c4ac3466-975f-43be-97a2-3c75399046ea",
   "metadata": {},
   "outputs": [],
   "source": [
    "param_grid = {\n",
    "    \"classifier__learning_rate\": (0.0001, 0.1, \"log-uniform\"),\n",
    "    \"classifier__n_estimators\": (100,  1000) ,\n",
    "    \"classifier__max_depth\": (4, 400) \n",
    "}"
   ]
  },
  {
   "cell_type": "code",
   "execution_count": null,
   "id": "19c2b3f1-32dc-4470-84bd-47d765a8bf95",
   "metadata": {},
   "outputs": [],
   "source": [
    "reg_bay = BayesSearchCV(estimator=pipe,\n",
    "                    search_spaces=param_grid,\n",
    "                    n_iter=n_iter,\n",
    "                    cv=5,\n",
    "                    n_jobs=8,\n",
    "                    scoring='roc_auc',\n",
    "                    random_state=123)"
   ]
  },
  {
   "cell_type": "code",
   "execution_count": null,
   "id": "712b06fc-81e0-45e3-a995-e3dd40dc2538",
   "metadata": {},
   "outputs": [],
   "source": [
    "model_bay = reg_bay.fit(X, y)"
   ]
  }
 ],
 "metadata": {
  "kernelspec": {
   "display_name": "Cuda118",
   "language": "python",
   "name": "cuda118"
  },
  "language_info": {
   "codemirror_mode": {
    "name": "ipython",
    "version": 3
   },
   "file_extension": ".py",
   "mimetype": "text/x-python",
   "name": "python",
   "nbconvert_exporter": "python",
   "pygments_lexer": "ipython3",
   "version": "3.12.3"
  }
 },
 "nbformat": 4,
 "nbformat_minor": 5
}
